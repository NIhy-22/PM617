{
 "cells": [
  {
   "cell_type": "markdown",
   "metadata": {
    "id": "ZvNsvUNNlZbi"
   },
   "source": [
    "---\n",
    "#  Crash Course Python for Data Science - Intro to Python  \n",
    "---\n",
    "# 01 - Python Variables & Data Types\n",
    "---\n",
    "\n",
    "## STOP! BEFORE GOING ANY FURTHER...  \n",
    "\n",
    "Remember, this exercises are open book, open neighbour, open everything! Try to do them on your own before looking at the solution samples.\n"
   ]
  },
  {
   "cell_type": "markdown",
   "metadata": {
    "id": "o57NvhYkBjKH"
   },
   "source": [
    "## Part 1: Variables\n"
   ]
  },
  {
   "cell_type": "markdown",
   "metadata": {
    "id": "4haXpvn1QXW_"
   },
   "source": [
    "### 1.1 Create three numerical variables (ints and/or floats) and add them together. At least one of your variables must hold a negative value."
   ]
  },
  {
   "cell_type": "code",
   "execution_count": 1,
   "metadata": {
    "id": "Aqs3liWFcouG"
   },
   "outputs": [
    {
     "name": "stdout",
     "output_type": "stream",
     "text": [
      "总和: 7.7\n"
     ]
    }
   ],
   "source": [
    "\n",
    "num1 = 10      \n",
    "num2 = -5.5    \n",
    "num3 = 3.2     \n",
    "\n",
    "total = num1 + num2 + num3\n",
    "SS\n",
    "print(\"总和:\", total)\n"
   ]
  },
  {
   "cell_type": "markdown",
   "metadata": {
    "id": "QSk1zFf4Qbzk"
   },
   "source": [
    "### 1.2 Write a sentence in five parts, assign each part to a variable, then concatenate them all together. Account for spacing!"
   ]
  },
  {
   "cell_type": "code",
   "execution_count": 2,
   "metadata": {
    "id": "knGTdX_jflb4"
   },
   "outputs": [
    {
     "name": "stdout",
     "output_type": "stream",
     "text": [
      "i am hello world language.\n"
     ]
    }
   ],
   "source": [
    "\n",
    "part1 = \"i \"\n",
    "part2 = \"am \"\n",
    "part3 = \"hello \"\n",
    "part4 = \"world \"\n",
    "part5 = \"language.\"\n",
    "sentence = part1 + part2 + part3 + part4 + part5\n",
    "\n",
    "print(sentence)\n",
    "\n"
   ]
  },
  {
   "cell_type": "markdown",
   "metadata": {
    "id": "8EYDz3UtQflV"
   },
   "source": [
    "### 1.3 Calculate my body mass index. Here's the formula for BMI:  \n",
    "\n",
    ">$\\frac{Weight(kg)}{Height(m)^2} = BMI$  \n",
    "\n",
    "I am 1.60 meters tall and weighs 56 kg. Create a variable for this height, weight, and BMI by combining the first two.\n"
   ]
  },
  {
   "cell_type": "code",
   "execution_count": 3,
   "metadata": {
    "id": "3nxcXGoPg7Kd"
   },
   "outputs": [
    {
     "name": "stdout",
     "output_type": "stream",
     "text": [
      "BMI: 21.874999999999996\n"
     ]
    }
   ],
   "source": [
    "height = 1.60  \n",
    "weight = 56    \n",
    "\n",
    "bmi = weight / (height ** 2)\n",
    "\n",
    "print(\"BMI:\", bmi)"
   ]
  },
  {
   "cell_type": "markdown",
   "metadata": {
    "id": "SV0stA9BUSCn"
   },
   "source": [
    "### 1.4 Now calculate your own BMI.\n",
    "How tall are you and what is your weight? If you're not sure, make a rough guess and calculate your BMI by changing the values of the variables you created for me. It's easier than creating all new variables, right?"
   ]
  },
  {
   "cell_type": "code",
   "execution_count": 4,
   "metadata": {
    "id": "t6rH9r_Ohwq5"
   },
   "outputs": [
    {
     "name": "stdout",
     "output_type": "stream",
     "text": [
      "BMI: 19.591836734693878\n"
     ]
    }
   ],
   "source": [
    "height = 1.75  \n",
    "weight = 60    \n",
    "\n",
    "bmi = weight / (height ** 2)\n",
    "\n",
    "print(\"BMI:\", bmi)"
   ]
  },
  {
   "cell_type": "markdown",
   "metadata": {
    "id": "LvfErOpESot3"
   },
   "source": [
    "## Part 2: Data Types"
   ]
  },
  {
   "cell_type": "markdown",
   "metadata": {
    "id": "u5SAr9vDSuCY"
   },
   "source": [
    "### 2.1 What is the data type of the following variables?"
   ]
  },
  {
   "cell_type": "code",
   "execution_count": null,
   "metadata": {
    "id": "QWyELKj1Sssz"
   },
   "outputs": [],
   "source": [
    "a = -91\n",
    "b = 12.0222\n",
    "c = True\n",
    "d = \"Loosey goosey\""
   ]
  },
  {
   "cell_type": "code",
   "execution_count": 5,
   "metadata": {
    "id": "e3IT_1C3iKm3"
   },
   "outputs": [],
   "source": [
    "# Create variables of different types\n",
    "a = -91           # Integer\n",
    "b = 12.0222       # Float\n",
    "c = True          # Boolean\n",
    "d = \"Loosey goosey\"  # String\n"
   ]
  },
  {
   "cell_type": "markdown",
   "metadata": {
    "id": "hBIomZKgS9Qw"
   },
   "source": [
    "### 2.2 How do strings behave differently than integers or floats?"
   ]
  },
  {
   "cell_type": "markdown",
   "metadata": {
    "id": "RT5d5gOoTFbV"
   },
   "source": [
    "*Write your answer below this line*: \n",
    "---\n",
    "To write, double click here...\n"
   ]
  },
  {
   "cell_type": "markdown",
   "metadata": {
    "id": "tXH3HQGWTZ0-"
   },
   "source": [
    "### 2.3 Create one variable holding a string and another variable holding a float. Concatenate the two together. "
   ]
  },
  {
   "cell_type": "code",
   "execution_count": 6,
   "metadata": {
    "id": "ItnFPpdwi6H_"
   },
   "outputs": [
    {
     "name": "stdout",
     "output_type": "stream",
     "text": [
      "The value is 42.8\n"
     ]
    }
   ],
   "source": [
    "# Create a string variable\n",
    "string_var = \"The value is \"\n",
    "\n",
    "# Create a float variable\n",
    "float_var = 42.8\n",
    "\n",
    "# Concatenate string and float (convert float to string first)\n",
    "concatenated_result = string_var + str(float_var)\n",
    "\n",
    "# Print the result\n",
    "print(concatenated_result)\n"
   ]
  },
  {
   "cell_type": "markdown",
   "metadata": {
    "id": "qVG_ZZyfTjyB"
   },
   "source": [
    "### YOU DID IT! Congratulations. I hope you feel more confident with Python now. Practice makes the master. See you on the next exercise. - Grace\n",
    "\n"
   ]
  }
 ],
 "metadata": {
  "colab": {
   "collapsed_sections": [],
   "name": "Python Variables & Data Types -EXERCISE.ipynb",
   "provenance": []
  },
  "kernelspec": {
   "display_name": "Python 3 (ipykernel)",
   "language": "python",
   "name": "python3"
  },
  "language_info": {
   "codemirror_mode": {
    "name": "ipython",
    "version": 3
   },
   "file_extension": ".py",
   "mimetype": "text/x-python",
   "name": "python",
   "nbconvert_exporter": "python",
   "pygments_lexer": "ipython3",
   "version": "3.9.7"
  }
 },
 "nbformat": 4,
 "nbformat_minor": 1
}
