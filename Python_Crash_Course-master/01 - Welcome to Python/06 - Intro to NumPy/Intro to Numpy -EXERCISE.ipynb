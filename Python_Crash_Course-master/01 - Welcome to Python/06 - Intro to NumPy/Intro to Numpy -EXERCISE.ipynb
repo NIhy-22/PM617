{
 "cells": [
  {
   "cell_type": "markdown",
   "metadata": {
    "colab_type": "text",
    "id": "ZvNsvUNNlZbi"
   },
   "source": [
    "---\n",
    "# Crash Course Python for Data Science - Intro to Python  \n",
    "---\n",
    "# 06 - Numpy\n",
    "---\n",
    "\n"
   ]
  },
  {
   "cell_type": "markdown",
   "metadata": {
    "colab_type": "text",
    "id": "y8HUQb0OOztX"
   },
   "source": [
    "## STOP! BEFORE GOING ANY FURTHER...  \n",
    "\n",
    "Remember, this exercises are open book, open neighbour, open everything! Try to do them on your own before looking at the solution samples.\n",
    "\n"
   ]
  },
  {
   "cell_type": "markdown",
   "metadata": {
    "colab_type": "text",
    "id": "xMq6Of2Gt24o"
   },
   "source": [
    "### Import Numpy as Np"
   ]
  },
  {
   "cell_type": "code",
   "execution_count": 1,
   "metadata": {
    "colab": {},
    "colab_type": "code",
    "id": "h3r0IvHVuGJb"
   },
   "outputs": [
    {
     "name": "stdout",
     "output_type": "stream",
     "text": [
      "NumPy imported!\n"
     ]
    }
   ],
   "source": [
    "# Make sure you run this cell first\n",
    "import numpy as np\n",
    "print('NumPy imported!')"
   ]
  },
  {
   "cell_type": "markdown",
   "metadata": {
    "colab_type": "text",
    "id": "DvYie7qokbDH"
   },
   "source": [
    "### Generate random numbers\n",
    "Create a (5,3) Numpy array of random integer values between 0 and 100."
   ]
  },
  {
   "cell_type": "code",
   "execution_count": 2,
   "metadata": {
    "colab": {},
    "colab_type": "code",
    "id": "tuk3ihI444Lz"
   },
   "outputs": [
    {
     "name": "stdout",
     "output_type": "stream",
     "text": [
      "[[38 43 76]\n",
      " [77 70 18]\n",
      " [39 17 81]\n",
      " [46 90  6]\n",
      " [79 82 35]]\n"
     ]
    }
   ],
   "source": [
    "array = np.random.randint(0, 101, size=(5, 3))\n",
    "print(array)"
   ]
  },
  {
   "cell_type": "code",
   "execution_count": 3,
   "metadata": {
    "cellView": "form",
    "colab": {},
    "colab_type": "code",
    "id": "UNJo_50VktRs"
   },
   "outputs": [
    {
     "data": {
      "text/plain": [
       "array([[11, 42, 43],\n",
       "       [49, 26, 54],\n",
       "       [39, 62, 85],\n",
       "       [97, 20,  3],\n",
       "       [26,  0, 97]])"
      ]
     },
     "execution_count": 3,
     "metadata": {},
     "output_type": "execute_result"
    }
   ],
   "source": [
    "#@title Double click here for a sample solution\n",
    "\n",
    "x = np.random.randint(0,100, (5,3))\n",
    "x"
   ]
  },
  {
   "cell_type": "markdown",
   "metadata": {
    "colab_type": "text",
    "id": "CYy4Zp5pk7tS"
   },
   "source": [
    "### Array practice"
   ]
  },
  {
   "cell_type": "code",
   "execution_count": 5,
   "metadata": {
    "colab": {},
    "colab_type": "code",
    "id": "JkmYBBgJ5g8V"
   },
   "outputs": [
    {
     "name": "stdout",
     "output_type": "stream",
     "text": [
      "1： [38 43 76]\n"
     ]
    }
   ],
   "source": [
    "first_row = array[0]\n",
    "print(\"1：\", first_row)"
   ]
  },
  {
   "cell_type": "code",
   "execution_count": 6,
   "metadata": {
    "cellView": "form",
    "colab": {},
    "colab_type": "code",
    "id": "lIxLoTfGl910"
   },
   "outputs": [
    {
     "data": {
      "text/plain": [
       "array([11, 42, 43])"
      ]
     },
     "execution_count": 6,
     "metadata": {},
     "output_type": "execute_result"
    }
   ],
   "source": [
    "#@title Double click here for a sample solution\n",
    "\n",
    "# Return the first row:\n",
    "x[0,]"
   ]
  },
  {
   "cell_type": "code",
   "execution_count": 9,
   "metadata": {
    "colab": {},
    "colab_type": "code",
    "id": "WLengwbz5m-U"
   },
   "outputs": [
    {
     "name": "stdout",
     "output_type": "stream",
     "text": [
      "[76 18 81  6 35]\n"
     ]
    }
   ],
   "source": [
    "last_column = array[:, -1]\n",
    "print( last_column)"
   ]
  },
  {
   "cell_type": "code",
   "execution_count": 0,
   "metadata": {
    "cellView": "form",
    "colab": {},
    "colab_type": "code",
    "id": "lMafok6zoGB-"
   },
   "outputs": [],
   "source": [
    "#@title Double click here for a sample solution\n",
    "\n",
    "# Return last column\n",
    "x[:, -1]"
   ]
  },
  {
   "cell_type": "code",
   "execution_count": 0,
   "metadata": {
    "colab": {},
    "colab_type": "code",
    "id": "miN2u44O5rOw"
   },
   "outputs": [],
   "source": [
    "# Return the third column values from the 4th and 5th rows\n",
    "\n",
    "### YOUR CODE GOES HERE ###"
   ]
  },
  {
   "cell_type": "code",
   "execution_count": 10,
   "metadata": {
    "cellView": "form",
    "colab": {},
    "colab_type": "code",
    "id": "6yQ6CcTgutmi"
   },
   "outputs": [
    {
     "data": {
      "text/plain": [
       "array([ 3, 97])"
      ]
     },
     "execution_count": 10,
     "metadata": {},
     "output_type": "execute_result"
    }
   ],
   "source": [
    "#@title Double click here for a sample solution\n",
    "\n",
    "# Return the third column values from the 4th and 5th rows\n",
    "x[3:5,2]"
   ]
  },
  {
   "cell_type": "code",
   "execution_count": 0,
   "metadata": {
    "colab": {},
    "colab_type": "code",
    "id": "rIlF6C4V57Vs"
   },
   "outputs": [],
   "source": [
    "# Multiply every value in the array by 2\n",
    "\n",
    "### YOUR CODE GOES HERE ###"
   ]
  },
  {
   "cell_type": "code",
   "execution_count": 11,
   "metadata": {
    "cellView": "form",
    "colab": {},
    "colab_type": "code",
    "id": "_uAfgS2huxKs"
   },
   "outputs": [
    {
     "data": {
      "text/plain": [
       "array([[ 22,  84,  86],\n",
       "       [ 98,  52, 108],\n",
       "       [ 78, 124, 170],\n",
       "       [194,  40,   6],\n",
       "       [ 52,   0, 194]])"
      ]
     },
     "execution_count": 11,
     "metadata": {},
     "output_type": "execute_result"
    }
   ],
   "source": [
    "#@title Double click here for a sample solution\n",
    "\n",
    "# Multiply every value in the array by 2\n",
    "x*2"
   ]
  },
  {
   "cell_type": "code",
   "execution_count": 0,
   "metadata": {
    "colab": {},
    "colab_type": "code",
    "id": "bOe7VPNX6BSf"
   },
   "outputs": [],
   "source": [
    "# Divide every value by 3\n",
    "\n",
    "### YOUR CODE GOES HERE ###"
   ]
  },
  {
   "cell_type": "code",
   "execution_count": 12,
   "metadata": {
    "cellView": "form",
    "colab": {},
    "colab_type": "code",
    "id": "7ys4zegYu2bg"
   },
   "outputs": [
    {
     "data": {
      "text/plain": [
       "array([[ 3.66666667, 14.        , 14.33333333],\n",
       "       [16.33333333,  8.66666667, 18.        ],\n",
       "       [13.        , 20.66666667, 28.33333333],\n",
       "       [32.33333333,  6.66666667,  1.        ],\n",
       "       [ 8.66666667,  0.        , 32.33333333]])"
      ]
     },
     "execution_count": 12,
     "metadata": {},
     "output_type": "execute_result"
    }
   ],
   "source": [
    "#@title Double click here for a sample solution\n",
    "\n",
    "# Divide every value by 3\n",
    "x/3"
   ]
  },
  {
   "cell_type": "code",
   "execution_count": 0,
   "metadata": {
    "colab": {},
    "colab_type": "code",
    "id": "8m4fiyxk6F8F"
   },
   "outputs": [],
   "source": [
    "# Increase the values in the first row by 12\n",
    "\n",
    "### YOUR CODE GOES HERE ###"
   ]
  },
  {
   "cell_type": "code",
   "execution_count": 0,
   "metadata": {
    "cellView": "form",
    "colab": {},
    "colab_type": "code",
    "id": "Gf8PLLDLu8yO"
   },
   "outputs": [],
   "source": [
    "#@title Double click here for a sample solution\n",
    "\n",
    "# Increase the values in the first row by 12\n",
    "x[0,] = x[0,] + 12\n",
    "x"
   ]
  },
  {
   "cell_type": "code",
   "execution_count": 0,
   "metadata": {
    "colab": {},
    "colab_type": "code",
    "id": "2n50I7TC6LDF"
   },
   "outputs": [],
   "source": [
    "# Calculate the mean of the first column\n",
    "\n",
    "### YOUR CODE GOES HERE ###"
   ]
  },
  {
   "cell_type": "code",
   "execution_count": 0,
   "metadata": {
    "cellView": "form",
    "colab": {},
    "colab_type": "code",
    "id": "0YTgjIRVu-Tk"
   },
   "outputs": [],
   "source": [
    "#@title Double click here for a sample solution\n",
    "\n",
    "# Calculate the mean of the first column\n",
    "x[:,0].mean()"
   ]
  },
  {
   "cell_type": "code",
   "execution_count": 0,
   "metadata": {
    "colab": {},
    "colab_type": "code",
    "id": "EGnUcNsu6QaG"
   },
   "outputs": [],
   "source": [
    "# Calculate the median of the array after removing the 2 smallest values in the array\n",
    "\n",
    "### YOUR CODE GOES HERE ###"
   ]
  },
  {
   "cell_type": "code",
   "execution_count": 0,
   "metadata": {
    "cellView": "form",
    "colab": {},
    "colab_type": "code",
    "id": "r_0ucAvMu_lT"
   },
   "outputs": [],
   "source": [
    "#@title Double click here for a sample solution\n",
    "\n",
    "# Calculate the median of the array after removing the 2 smallest values in the array\n",
    "x1 = np.delete(x, x.argmin())\n",
    "x1 = np.delete(x1, x1.argmin())\n",
    "np.median(x1)\n"
   ]
  },
  {
   "cell_type": "code",
   "execution_count": 0,
   "metadata": {
    "colab": {},
    "colab_type": "code",
    "id": "R-jy3YK46XJh"
   },
   "outputs": [],
   "source": [
    "# Calculate the standard deviation of the first 3 rows\n",
    "\n",
    "### YOUR CODE GOES HERE ###"
   ]
  },
  {
   "cell_type": "code",
   "execution_count": 0,
   "metadata": {
    "cellView": "form",
    "colab": {},
    "colab_type": "code",
    "id": "V9ncUcdYvA_w"
   },
   "outputs": [],
   "source": [
    "#@title Double click here for a sample solution\n",
    "\n",
    "# Calculate the standard deviation of the first 3 rows\n",
    "np.std(x[:3],)"
   ]
  },
  {
   "cell_type": "code",
   "execution_count": 0,
   "metadata": {
    "colab": {},
    "colab_type": "code",
    "id": "vhVL5EN_6crc"
   },
   "outputs": [],
   "source": [
    "# Return values in the second column greater than 25\n",
    "\n",
    "### YOUR CODE GOES HERE ###"
   ]
  },
  {
   "cell_type": "code",
   "execution_count": 0,
   "metadata": {
    "cellView": "form",
    "colab": {},
    "colab_type": "code",
    "id": "eZv0Bv0LvCX0"
   },
   "outputs": [],
   "source": [
    "#@title Double click here for a sample solution\n",
    "\n",
    "# Return values in the second column greater than 25\n",
    "print(\"Values bigger than 25 on the second column =\", x[:,1][x[:,1]>25])"
   ]
  },
  {
   "cell_type": "code",
   "execution_count": 0,
   "metadata": {
    "colab": {},
    "colab_type": "code",
    "id": "m-5gH97R6hj1"
   },
   "outputs": [],
   "source": [
    "# Return values in the array under 40\n",
    "\n",
    "### YOUR CODE GOES HERE ###"
   ]
  },
  {
   "cell_type": "code",
   "execution_count": 0,
   "metadata": {
    "cellView": "form",
    "colab": {},
    "colab_type": "code",
    "id": "AZPejsMgvDlr"
   },
   "outputs": [],
   "source": [
    "#@title Double click here for a sample solution\n",
    "\n",
    "# Return values in the array under 40\n",
    "print(\"Values under 40 in array =\", x[x<40])"
   ]
  }
 ],
 "metadata": {
  "colab": {
   "collapsed_sections": [],
   "name": "Intro to Numpy -EXERCISE.ipynb",
   "provenance": [
    {
     "file_id": "1vYNAOjBKKDfJjQhfYyHiilvJKYtV6xvU",
     "timestamp": 1574183847770
    },
    {
     "file_id": "1n6NmJmUpxhIPn4ZCsbK2tiV6PZ6MDD00",
     "timestamp": 1566950097327
    },
    {
     "file_id": "1wlKS2ySxKKZ6msBXn-8S8qe-4rRoWSKI",
     "timestamp": 1560402395187
    },
    {
     "file_id": "1scRLpBtHS0jXC72opqLsj3wMHilVELnZ",
     "timestamp": 1560164436155
    },
    {
     "file_id": "1Gj8xFEghBwX8exDkdBWvNSzOUTYlNxI9",
     "timestamp": 1559546697443
    },
    {
     "file_id": "1TeHiJ5s48kWFy5BosIWhjK2MQyMkPHNo",
     "timestamp": 1559546187577
    },
    {
     "file_id": "1f_9CXFJzBvrAePaDr_WYQGHEBS5th53b",
     "timestamp": 1559541190636
    }
   ]
  },
  "kernelspec": {
   "display_name": "Python 3 (ipykernel)",
   "language": "python",
   "name": "python3"
  },
  "language_info": {
   "codemirror_mode": {
    "name": "ipython",
    "version": 3
   },
   "file_extension": ".py",
   "mimetype": "text/x-python",
   "name": "python",
   "nbconvert_exporter": "python",
   "pygments_lexer": "ipython3",
   "version": "3.9.7"
  }
 },
 "nbformat": 4,
 "nbformat_minor": 1
}
