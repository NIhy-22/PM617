{
 "cells": [
  {
   "cell_type": "markdown",
   "metadata": {
    "colab_type": "text",
    "id": "ZvNsvUNNlZbi"
   },
   "source": [
    "---\n",
    "#Crash Course Python for Data Science - Intro to Python  \n",
    "---\n",
    "# 05 - Python Functions & Packages\n",
    "---\n",
    "\n"
   ]
  },
  {
   "cell_type": "markdown",
   "metadata": {
    "colab_type": "text",
    "id": "y8HUQb0OOztX"
   },
   "source": [
    "## STOP! BEFORE GOING ANY FURTHER...  \n",
    "\n",
    "Remember, this exercises are open book, open neighbour, open everything! Try to do them on your own before looking at the solution samples.\n",
    "\n"
   ]
  },
  {
   "cell_type": "markdown",
   "metadata": {
    "colab_type": "text",
    "id": "o57NvhYkBjKH"
   },
   "source": [
    "## Part 1: Functions\n"
   ]
  },
  {
   "cell_type": "markdown",
   "metadata": {
    "colab_type": "text",
    "id": "xMq6Of2Gt24o"
   },
   "source": [
    "### Built-in functions\n",
    "\n",
    "\n",
    "---\n",
    "\n",
    "\n",
    "Make sure to run the cell below before beginning your assignment."
   ]
  },
  {
   "cell_type": "code",
   "execution_count": 15,
   "metadata": {
    "colab": {},
    "colab_type": "code",
    "id": "h3r0IvHVuGJb"
   },
   "outputs": [],
   "source": [
    "x = [\"a\", \"b\", \"c\", \"d\", \"e\", \"f\"]"
   ]
  },
  {
   "cell_type": "markdown",
   "metadata": {
    "colab_type": "text",
    "id": "4haXpvn1QXW_"
   },
   "source": [
    "### 1.1 For the list of values provided and now saved in variable `x`, find the following:\n",
    "\n",
    "\n",
    "*   The max?\n",
    "*   The min?\n",
    "*   Number of elements in the list?\n",
    "*   Sort the list in _descending_ order.\n",
    "\n"
   ]
  },
  {
   "cell_type": "code",
   "execution_count": 2,
   "metadata": {
    "colab": {},
    "colab_type": "code",
    "id": "GnCyKxEU0BMo"
   },
   "outputs": [
    {
     "name": "stdout",
     "output_type": "stream",
     "text": [
      "f\n"
     ]
    }
   ],
   "source": [
    "print(max(x))"
   ]
  },
  {
   "cell_type": "code",
   "execution_count": 4,
   "metadata": {
    "colab": {},
    "colab_type": "code",
    "id": "vPdrlKr90HZP"
   },
   "outputs": [
    {
     "name": "stdout",
     "output_type": "stream",
     "text": [
      "a\n"
     ]
    }
   ],
   "source": [
    "print(min(x))"
   ]
  },
  {
   "cell_type": "code",
   "execution_count": 5,
   "metadata": {
    "colab": {},
    "colab_type": "code",
    "id": "hZjbrC3J0OhL"
   },
   "outputs": [
    {
     "name": "stdout",
     "output_type": "stream",
     "text": [
      "6\n"
     ]
    }
   ],
   "source": [
    "print(len(x)) "
   ]
  },
  {
   "cell_type": "code",
   "execution_count": 7,
   "metadata": {
    "colab": {},
    "colab_type": "code",
    "id": "pzLNrtRc0ZJo"
   },
   "outputs": [
    {
     "name": "stdout",
     "output_type": "stream",
     "text": [
      "['f', 'e', 'd', 'c', 'b', 'a']\n"
     ]
    }
   ],
   "source": [
    "\n",
    "\n",
    "x.sort(reverse=True)\n",
    "print(x)  # 输出: ['f', 'e', 'd', 'c', 'b', 'a']"
   ]
  },
  {
   "cell_type": "markdown",
   "metadata": {
    "colab_type": "text",
    "id": "zqzzZomJ0IKf"
   },
   "source": [
    "### Methods\n",
    "\n",
    "\n",
    "---\n",
    "\n"
   ]
  },
  {
   "cell_type": "markdown",
   "metadata": {
    "colab_type": "text",
    "id": "8EYDz3UtQflV"
   },
   "source": [
    "### 1.2 Using the same list:\n",
    "\n",
    "*  Remove the second to last element. \n",
    "*  Add the letter \"z\" to the list.\n",
    "*  Empty out the list.\n"
   ]
  },
  {
   "cell_type": "code",
   "execution_count": 17,
   "metadata": {
    "colab": {},
    "colab_type": "code",
    "id": "NMInCHN30pIS"
   },
   "outputs": [
    {
     "data": {
      "text/plain": [
       "'f'"
      ]
     },
     "execution_count": 17,
     "metadata": {},
     "output_type": "execute_result"
    }
   ],
   "source": [
    "x.pop(-2)  # removes \"e\"\n"
   ]
  },
  {
   "cell_type": "code",
   "execution_count": 18,
   "metadata": {
    "colab": {},
    "colab_type": "code",
    "id": "8dzn281l0y6F"
   },
   "outputs": [
    {
     "name": "stdout",
     "output_type": "stream",
     "text": [
      "['a', 'b', 'c', 'd', 'e', 'z', 'z']\n"
     ]
    }
   ],
   "source": [
    "x.append(\"z\");print(x)"
   ]
  },
  {
   "cell_type": "code",
   "execution_count": 12,
   "metadata": {
    "colab": {},
    "colab_type": "code",
    "id": "PA3DoVke05zF"
   },
   "outputs": [],
   "source": [
    "x.clear()"
   ]
  },
  {
   "cell_type": "markdown",
   "metadata": {
    "colab_type": "text",
    "id": "wTJ29ehV4aEA"
   },
   "source": [
    "### 1.3 For the string `y` provided:\n",
    "\n",
    "* Split the string at every empty space."
   ]
  },
  {
   "cell_type": "code",
   "execution_count": 19,
   "metadata": {
    "colab": {},
    "colab_type": "code",
    "id": "eoKEv5uS4w29"
   },
   "outputs": [],
   "source": [
    "y = \"to thine own self be true, and it must follow, as the night the day, thou canst not then be false to any man.\""
   ]
  },
  {
   "cell_type": "code",
   "execution_count": 20,
   "metadata": {
    "colab": {},
    "colab_type": "code",
    "id": "u5rNL_-51Q2A"
   },
   "outputs": [
    {
     "name": "stdout",
     "output_type": "stream",
     "text": [
      "['to', 'thine', 'own', 'self', 'be', 'true,', 'and', 'it', 'must', 'follow,', 'as', 'the', 'night', 'the', 'day,', 'thou', 'canst', 'not', 'then', 'be', 'false', 'to', 'any', 'man.']\n"
     ]
    }
   ],
   "source": [
    "y = \"to thine own self be true, and it must follow, as the night the day, thou canst not then be false to any man.\"\n",
    "words = y.split()\n",
    "print(words)"
   ]
  },
  {
   "cell_type": "markdown",
   "metadata": {
    "colab_type": "text",
    "id": "B5hfG_xs0fp0"
   },
   "source": [
    "### Custom Functions\n",
    "\n",
    "\n",
    "---\n",
    "\n"
   ]
  },
  {
   "cell_type": "markdown",
   "metadata": {
    "colab_type": "text",
    "id": "SrhmB_rj0rhB"
   },
   "source": [
    "### 1.4 Create a function that returns the sum of two numbers."
   ]
  },
  {
   "cell_type": "code",
   "execution_count": 21,
   "metadata": {
    "colab": {},
    "colab_type": "code",
    "id": "XCDXo3yT1Wdw"
   },
   "outputs": [],
   "source": [
    "def add_numbers(a, b):\n",
    "    return a + b"
   ]
  },
  {
   "cell_type": "markdown",
   "metadata": {
    "colab_type": "text",
    "id": "YcEwAg9w6PDQ"
   },
   "source": [
    "### 1.5 Create a function that, given a list of numbers, returns their average."
   ]
  },
  {
   "cell_type": "code",
   "execution_count": 22,
   "metadata": {
    "colab": {},
    "colab_type": "code",
    "id": "uhgwobPI1a3B"
   },
   "outputs": [],
   "source": [
    "def average(numbers):\n",
    "    if len(numbers) == 0:\n",
    "        return 0  \n",
    "    \n",
    "    return sum(numbers) / len(numbers)"
   ]
  },
  {
   "cell_type": "markdown",
   "metadata": {
    "colab_type": "text",
    "id": "PDLwYCAn6PbL"
   },
   "source": [
    "### 1.6 Create a function that, given a string, returns that string capitalized and reversed. "
   ]
  },
  {
   "cell_type": "code",
   "execution_count": 23,
   "metadata": {
    "colab": {},
    "colab_type": "code",
    "id": "IMw6vPvR1fWq"
   },
   "outputs": [],
   "source": [
    "def capitalize_and_reverse(s):\n",
    "    capitalized = s.capitalize()\n",
    "    reversed_str = capitalized[::-1]\n",
    "    return reversed_str"
   ]
  },
  {
   "cell_type": "markdown",
   "metadata": {
    "colab_type": "text",
    "id": "MHeit5A_6Pot"
   },
   "source": [
    "### 1.7 Create a function that, given a list of strings, concatenates them together with proper spacing."
   ]
  },
  {
   "cell_type": "code",
   "execution_count": 24,
   "metadata": {
    "colab": {},
    "colab_type": "code",
    "id": "V9I8Sw4R1jhs"
   },
   "outputs": [],
   "source": [
    "def concatenate_with_spaces(strings):\n",
    "    return \" \".join(strings)"
   ]
  },
  {
   "cell_type": "markdown",
   "metadata": {
    "colab_type": "text",
    "id": "GFpCBnZolyWY"
   },
   "source": [
    "## Part 2: Packages"
   ]
  },
  {
   "cell_type": "markdown",
   "metadata": {
    "colab_type": "text",
    "id": "_sq5HypwyvXS"
   },
   "source": [
    "### 2.1 Import the Random library and use it to create a list of ten random numbers from 0-50.\n",
    "There are several ways to do this. Google around and find one that you can replicate here. "
   ]
  },
  {
   "cell_type": "code",
   "execution_count": 27,
   "metadata": {
    "colab": {},
    "colab_type": "code",
    "id": "FVP7sbBO1s9o"
   },
   "outputs": [],
   "source": [
    "import random"
   ]
  },
  {
   "cell_type": "code",
   "execution_count": 28,
   "metadata": {},
   "outputs": [
    {
     "name": "stdout",
     "output_type": "stream",
     "text": [
      "[42, 47, 0, 20, 39, 36, 3, 50, 19, 21]\n"
     ]
    }
   ],
   "source": [
    "\n",
    "random_numbers = [random.randint(0, 50) for _ in range(10)]\n",
    "print(random_numbers)"
   ]
  },
  {
   "cell_type": "code",
   "execution_count": 29,
   "metadata": {
    "cellView": "form",
    "colab": {},
    "colab_type": "code",
    "id": "XD5JruLw1wv4"
   },
   "outputs": [
    {
     "data": {
      "text/plain": [
       "[37, 23, 8, 27, 2, 48, 22, 15, 47, 25]"
      ]
     },
     "execution_count": 29,
     "metadata": {},
     "output_type": "execute_result"
    }
   ],
   "source": [
    "#@title Double click here for a sample solution\n",
    "\n",
    "import random\n",
    "randomnums = random.sample(range(50), 10)\n",
    "randomnums"
   ]
  },
  {
   "cell_type": "markdown",
   "metadata": {
    "colab_type": "text",
    "id": "S_-lYWqF1P3_"
   },
   "source": [
    "### 2.2 Import the Numpy library and assign it an alias \"np\". Then change the list of random numbers you generated into a Numpy array."
   ]
  },
  {
   "cell_type": "code",
   "execution_count": 33,
   "metadata": {
    "colab": {},
    "colab_type": "code",
    "id": "9ZGv7_XM11dM"
   },
   "outputs": [
    {
     "name": "stdout",
     "output_type": "stream",
     "text": [
      "[21 12 16 42 25 32 45 42 26 43]\n"
     ]
    }
   ],
   "source": [
    "import random\n",
    "import numpy as np  \n",
    "\n",
    "random_numbers = [random.randint(0, 50) for _ in range(10)]\n",
    "\n",
    "\n",
    "array = np.array(random_numbers)\n",
    "\n",
    "print(array)"
   ]
  },
  {
   "cell_type": "markdown",
   "metadata": {
    "colab_type": "text",
    "id": "Q1E9d9Uq08U-"
   },
   "source": [
    "### 2.3 Calculate the mean of the Numpy array. (Hint: Numpy has a method for this.)\n"
   ]
  },
  {
   "cell_type": "code",
   "execution_count": 35,
   "metadata": {
    "colab": {},
    "colab_type": "code",
    "id": "u7Vrw22Y182D"
   },
   "outputs": [],
   "source": [
    "import numpy as np"
   ]
  },
  {
   "cell_type": "code",
   "execution_count": 36,
   "metadata": {},
   "outputs": [],
   "source": [
    "array = np.array([12, 33, 4, 45, 7, 28, 50, 0, 9, 17])"
   ]
  },
  {
   "cell_type": "code",
   "execution_count": 37,
   "metadata": {},
   "outputs": [],
   "source": [
    "mean_value = np.mean(array)"
   ]
  },
  {
   "cell_type": "code",
   "execution_count": 38,
   "metadata": {},
   "outputs": [
    {
     "name": "stdout",
     "output_type": "stream",
     "text": [
      "20.5\n"
     ]
    }
   ],
   "source": [
    "print (mean_value)"
   ]
  },
  {
   "cell_type": "markdown",
   "metadata": {
    "colab_type": "text",
    "id": "BEXzJ3DWy3MF"
   },
   "source": [
    "### BONUS: \n",
    "In the cell below, run the following command and see what happens :)  \n",
    "`import this`  \n"
   ]
  },
  {
   "cell_type": "code",
   "execution_count": 39,
   "metadata": {
    "colab": {},
    "colab_type": "code",
    "id": "M3oNCZv-zkpZ"
   },
   "outputs": [
    {
     "name": "stdout",
     "output_type": "stream",
     "text": [
      "The Zen of Python, by Tim Peters\n",
      "\n",
      "Beautiful is better than ugly.\n",
      "Explicit is better than implicit.\n",
      "Simple is better than complex.\n",
      "Complex is better than complicated.\n",
      "Flat is better than nested.\n",
      "Sparse is better than dense.\n",
      "Readability counts.\n",
      "Special cases aren't special enough to break the rules.\n",
      "Although practicality beats purity.\n",
      "Errors should never pass silently.\n",
      "Unless explicitly silenced.\n",
      "In the face of ambiguity, refuse the temptation to guess.\n",
      "There should be one-- and preferably only one --obvious way to do it.\n",
      "Although that way may not be obvious at first unless you're Dutch.\n",
      "Now is better than never.\n",
      "Although never is often better than *right* now.\n",
      "If the implementation is hard to explain, it's a bad idea.\n",
      "If the implementation is easy to explain, it may be a good idea.\n",
      "Namespaces are one honking great idea -- let's do more of those!\n"
     ]
    }
   ],
   "source": [
    "import this"
   ]
  },
  {
   "cell_type": "markdown",
   "metadata": {
    "colab_type": "text",
    "id": "qVG_ZZyfTjyB"
   },
   "source": [
    "### Make sure you save your Exercise notebook! See you next - G\n",
    "\n"
   ]
  }
 ],
 "metadata": {
  "colab": {
   "collapsed_sections": [],
   "name": "Functions & Packages - EXERCISE.ipynb",
   "provenance": [
    {
     "file_id": "1M_SORL7qd9P3HtZKjiWcT2-onrb-mGkT",
     "timestamp": 1574180912086
    },
    {
     "file_id": "1wlKS2ySxKKZ6msBXn-8S8qe-4rRoWSKI",
     "timestamp": 1566949922629
    },
    {
     "file_id": "1scRLpBtHS0jXC72opqLsj3wMHilVELnZ",
     "timestamp": 1560164436155
    },
    {
     "file_id": "1Gj8xFEghBwX8exDkdBWvNSzOUTYlNxI9",
     "timestamp": 1559546697443
    },
    {
     "file_id": "1TeHiJ5s48kWFy5BosIWhjK2MQyMkPHNo",
     "timestamp": 1559546187577
    },
    {
     "file_id": "1f_9CXFJzBvrAePaDr_WYQGHEBS5th53b",
     "timestamp": 1559541190636
    }
   ]
  },
  "kernelspec": {
   "display_name": "Python 3 (ipykernel)",
   "language": "python",
   "name": "python3"
  },
  "language_info": {
   "codemirror_mode": {
    "name": "ipython",
    "version": 3
   },
   "file_extension": ".py",
   "mimetype": "text/x-python",
   "name": "python",
   "nbconvert_exporter": "python",
   "pygments_lexer": "ipython3",
   "version": "3.9.7"
  }
 },
 "nbformat": 4,
 "nbformat_minor": 1
}
