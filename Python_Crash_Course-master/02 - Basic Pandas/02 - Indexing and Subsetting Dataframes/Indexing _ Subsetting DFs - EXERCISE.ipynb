{
 "cells": [
  {
   "cell_type": "markdown",
   "metadata": {
    "colab_type": "text",
    "id": "ZvNsvUNNlZbi"
   },
   "source": [
    "---\n",
    "# Crash Course Python for Data Science - Intro to Pandas\n",
    "---\n",
    "# 02 - Indexing & Subsetting DataFrames\n",
    "---\n",
    "\n"
   ]
  },
  {
   "cell_type": "markdown",
   "metadata": {
    "colab_type": "text",
    "id": "y8HUQb0OOztX"
   },
   "source": [
    "## STOP! BEFORE GOING ANY FURTHER...  \n",
    "\n",
    "Remember, this exercises are open book, open neighbour, open everything! Try to do them on your own before looking at the solution samples.\n",
    "\n"
   ]
  },
  {
   "cell_type": "markdown",
   "metadata": {
    "colab_type": "text",
    "id": "xMq6Of2Gt24o"
   },
   "source": [
    "### Import pandas"
   ]
  },
  {
   "cell_type": "code",
   "execution_count": 1,
   "metadata": {
    "colab": {},
    "colab_type": "code",
    "id": "h3r0IvHVuGJb"
   },
   "outputs": [
    {
     "name": "stdout",
     "output_type": "stream",
     "text": [
      "pandas imported!\n"
     ]
    }
   ],
   "source": [
    "import pandas as pd\n",
    "print('pandas imported!')"
   ]
  },
  {
   "cell_type": "markdown",
   "metadata": {
    "colab_type": "text",
    "id": "DvYie7qokbDH"
   },
   "source": [
    "### Read in your data\n",
    "Your dataset can be found [here.](https://raw.githubusercontent.com/axrd/datasets/master/tipdata.csv)\n",
    "Import it and return the first 5 rows:"
   ]
  },
  {
   "cell_type": "code",
   "execution_count": 2,
   "metadata": {
    "colab": {},
    "colab_type": "code",
    "id": "BT_9npagH2Fb"
   },
   "outputs": [
    {
     "name": "stdout",
     "output_type": "stream",
     "text": [
      "   Unnamed: 0  total_bill   tip     sex smoker  day    time  size\n",
      "0           0       16.99  1.01  Female     No  Sun  Dinner     2\n",
      "1           1       10.34  1.66    Male     No  Sun  Dinner     3\n",
      "2           2       21.01  3.50    Male     No  Sun  Dinner     3\n",
      "3           3       23.68  3.31    Male     No  Sun  Dinner     2\n",
      "4           4       24.59  3.61  Female     No  Sun  Dinner     4\n"
     ]
    }
   ],
   "source": [
    "url = \"https://raw.githubusercontent.com/axrd/datasets/master/tipdata.csv\"\n",
    "df = pd.read_csv(url)\n",
    "\n",
    "\n",
    "print(df.head())"
   ]
  },
  {
   "cell_type": "markdown",
   "metadata": {
    "colab_type": "text",
    "id": "fMyM71IQYA-K"
   },
   "source": [
    "### What is the shape of the DataFrame?"
   ]
  },
  {
   "cell_type": "code",
   "execution_count": 3,
   "metadata": {
    "colab": {},
    "colab_type": "code",
    "id": "0ock8t9NH7oE"
   },
   "outputs": [
    {
     "name": "stdout",
     "output_type": "stream",
     "text": [
      "(244, 8)\n"
     ]
    }
   ],
   "source": [
    "print(df.shape)"
   ]
  },
  {
   "cell_type": "markdown",
   "metadata": {
    "colab_type": "text",
    "id": "CYy4Zp5pk7tS"
   },
   "source": [
    "### Get specific values"
   ]
  },
  {
   "cell_type": "code",
   "execution_count": 4,
   "metadata": {
    "colab": {},
    "colab_type": "code",
    "id": "aujP8IEFICVp"
   },
   "outputs": [
    {
     "name": "stdout",
     "output_type": "stream",
     "text": [
      "Unnamed: 0        40\n",
      "total_bill     16.04\n",
      "tip             2.24\n",
      "sex             Male\n",
      "smoker            No\n",
      "day              Sat\n",
      "time          Dinner\n",
      "size               3\n",
      "Name: 40, dtype: object\n"
     ]
    }
   ],
   "source": [
    "print(df.iloc[40])"
   ]
  },
  {
   "cell_type": "code",
   "execution_count": 0,
   "metadata": {
    "colab": {},
    "colab_type": "code",
    "id": "bXBPnpWhIR8a"
   },
   "outputs": [],
   "source": [
    "# Was the 22nd entry seated in a smoking section??\n",
    "\n",
    "### YOUR CODE GOES HERE ###"
   ]
  },
  {
   "cell_type": "markdown",
   "metadata": {
    "colab_type": "text",
    "id": "125CV0jpQ5vT"
   },
   "source": [
    "### Get a range of values"
   ]
  },
  {
   "cell_type": "code",
   "execution_count": 5,
   "metadata": {
    "colab": {},
    "colab_type": "code",
    "id": "4vlXJCvJIilf"
   },
   "outputs": [
    {
     "name": "stdout",
     "output_type": "stream",
     "text": [
      "     Unnamed: 0  total_bill   tip     sex smoker   day    time  size\n",
      "224         224       13.42  1.58    Male    Yes   Fri   Lunch     2\n",
      "225         225       16.27  2.50  Female    Yes   Fri   Lunch     2\n",
      "226         226       10.09  2.00  Female    Yes   Fri   Lunch     2\n",
      "227         227       20.45  3.00    Male     No   Sat  Dinner     4\n",
      "228         228       13.28  2.72    Male     No   Sat  Dinner     2\n",
      "229         229       22.12  2.88  Female    Yes   Sat  Dinner     2\n",
      "230         230       24.01  2.00    Male    Yes   Sat  Dinner     4\n",
      "231         231       15.69  3.00    Male    Yes   Sat  Dinner     3\n",
      "232         232       11.61  3.39    Male     No   Sat  Dinner     2\n",
      "233         233       10.77  1.47    Male     No   Sat  Dinner     2\n",
      "234         234       15.53  3.00    Male    Yes   Sat  Dinner     2\n",
      "235         235       10.07  1.25    Male     No   Sat  Dinner     2\n",
      "236         236       12.60  1.00    Male    Yes   Sat  Dinner     2\n",
      "237         237       32.83  1.17    Male    Yes   Sat  Dinner     2\n",
      "238         238       35.83  4.67  Female     No   Sat  Dinner     3\n",
      "239         239       29.03  5.92    Male     No   Sat  Dinner     3\n",
      "240         240       27.18  2.00  Female    Yes   Sat  Dinner     2\n",
      "241         241       22.67  2.00    Male    Yes   Sat  Dinner     2\n",
      "242         242       17.82  1.75    Male     No   Sat  Dinner     2\n",
      "243         243       18.78  3.00  Female     No  Thur  Dinner     2\n"
     ]
    }
   ],
   "source": [
    "last_20_entries = df.tail(20)\n",
    "print(last_20_entries)"
   ]
  },
  {
   "cell_type": "code",
   "execution_count": 0,
   "metadata": {
    "colab": {},
    "colab_type": "code",
    "id": "D4T11KeZIsJf"
   },
   "outputs": [],
   "source": [
    "# Return entries 25 through 50\n",
    "\n",
    "### YOUR CODE GOES HERE ###"
   ]
  },
  {
   "cell_type": "markdown",
   "metadata": {
    "colab_type": "text",
    "id": "Y7arWL1sblgY"
   },
   "source": [
    "### Filtering and subsetting:"
   ]
  },
  {
   "cell_type": "code",
   "execution_count": 6,
   "metadata": {
    "colab": {},
    "colab_type": "code",
    "id": "oICDL6Y0IzZi"
   },
   "outputs": [
    {
     "name": "stdout",
     "output_type": "stream",
     "text": [
      "     Unnamed: 0  total_bill   tip     sex smoker  day    time  size\n",
      "1             1       10.34  1.66    Male     No  Sun  Dinner     3\n",
      "2             2       21.01  3.50    Male     No  Sun  Dinner     3\n",
      "4             4       24.59  3.61  Female     No  Sun  Dinner     4\n",
      "5             5       25.29  4.71    Male     No  Sun  Dinner     4\n",
      "7             7       26.88  3.12    Male     No  Sun  Dinner     4\n",
      "..          ...         ...   ...     ...    ...  ...     ...   ...\n",
      "227         227       20.45  3.00    Male     No  Sat  Dinner     4\n",
      "230         230       24.01  2.00    Male    Yes  Sat  Dinner     4\n",
      "231         231       15.69  3.00    Male    Yes  Sat  Dinner     3\n",
      "238         238       35.83  4.67  Female     No  Sat  Dinner     3\n",
      "239         239       29.03  5.92    Male     No  Sat  Dinner     3\n",
      "\n",
      "[84 rows x 8 columns]\n"
     ]
    }
   ],
   "source": [
    "filtered_df = df[df[\"size\"] > 2]\n",
    "print(filtered_df)"
   ]
  },
  {
   "cell_type": "code",
   "execution_count": 0,
   "metadata": {
    "colab": {},
    "colab_type": "code",
    "id": "nbMJcbguI8NR"
   },
   "outputs": [],
   "source": [
    "# Create a Dataframe consisting only of data for Fridays. \n",
    "# Hint: You should have 19 values.\n",
    "\n",
    "\n",
    "### YOUR CODE GOES HERE ###"
   ]
  },
  {
   "cell_type": "markdown",
   "metadata": {
    "colab_type": "text",
    "id": "D3B3Z8GvcY4Q"
   },
   "source": [
    "### Well done! Make sure your save your work. See you on the next notebook. - G\n",
    "\n",
    "\n",
    "\n",
    "---\n",
    "\n"
   ]
  }
 ],
 "metadata": {
  "colab": {
   "collapsed_sections": [],
   "name": "Indexing & Subsetting DFs - EXERCISE.ipynb",
   "provenance": [
    {
     "file_id": "1GPclY8dkmv5hK4wMlMJx0nB1-z7bpCEx",
     "timestamp": 1574190397134
    },
    {
     "file_id": "1U_fQboElbIRqyhmT2k-IzngAgJZjouaq",
     "timestamp": 1567181368572
    },
    {
     "file_id": "1XCXHPOyJJYCisFkNQiMfN7PwoWpiavCW",
     "timestamp": 1561008776817
    },
    {
     "file_id": "1WMpsBAna7qYSPwn1tFKSEfkZjY3BZHuY",
     "timestamp": 1560422997408
    },
    {
     "file_id": "1n6NmJmUpxhIPn4ZCsbK2tiV6PZ6MDD00",
     "timestamp": 1560410483688
    },
    {
     "file_id": "1wlKS2ySxKKZ6msBXn-8S8qe-4rRoWSKI",
     "timestamp": 1560402395187
    },
    {
     "file_id": "1scRLpBtHS0jXC72opqLsj3wMHilVELnZ",
     "timestamp": 1560164436155
    },
    {
     "file_id": "1Gj8xFEghBwX8exDkdBWvNSzOUTYlNxI9",
     "timestamp": 1559546697443
    },
    {
     "file_id": "1TeHiJ5s48kWFy5BosIWhjK2MQyMkPHNo",
     "timestamp": 1559546187577
    },
    {
     "file_id": "1f_9CXFJzBvrAePaDr_WYQGHEBS5th53b",
     "timestamp": 1559541190636
    }
   ]
  },
  "kernelspec": {
   "display_name": "Python 3 (ipykernel)",
   "language": "python",
   "name": "python3"
  },
  "language_info": {
   "codemirror_mode": {
    "name": "ipython",
    "version": 3
   },
   "file_extension": ".py",
   "mimetype": "text/x-python",
   "name": "python",
   "nbconvert_exporter": "python",
   "pygments_lexer": "ipython3",
   "version": "3.9.7"
  }
 },
 "nbformat": 4,
 "nbformat_minor": 1
}
