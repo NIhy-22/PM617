{
 "cells": [
  {
   "cell_type": "markdown",
   "metadata": {
    "colab_type": "text",
    "id": "ZvNsvUNNlZbi"
   },
   "source": [
    "---\n",
    "# Crash Course Python for Data Science - Intro to Pandas\n",
    "---\n",
    "# 04 - Cleaning Data\n",
    "---\n",
    "\n"
   ]
  },
  {
   "cell_type": "markdown",
   "metadata": {
    "colab_type": "text",
    "id": "y8HUQb0OOztX"
   },
   "source": [
    "## STOP! BEFORE GOING ANY FURTHER...  \n",
    "\n",
    "Remember, this exercises are open book, open neighbour, open everything! Try to do them on your own before looking at the solution samples.\n",
    "\n"
   ]
  },
  {
   "cell_type": "markdown",
   "metadata": {
    "colab_type": "text",
    "id": "xMq6Of2Gt24o"
   },
   "source": [
    "### Import pandas"
   ]
  },
  {
   "cell_type": "code",
   "execution_count": 1,
   "metadata": {
    "colab": {},
    "colab_type": "code",
    "id": "h3r0IvHVuGJb"
   },
   "outputs": [
    {
     "name": "stdout",
     "output_type": "stream",
     "text": [
      "pandas imported!\n"
     ]
    }
   ],
   "source": [
    "# Run this!\n",
    "import pandas as pd\n",
    "print('pandas imported!')"
   ]
  },
  {
   "cell_type": "markdown",
   "metadata": {
    "colab_type": "text",
    "id": "DvYie7qokbDH"
   },
   "source": [
    "### Import the data in the CSV file\n",
    "You can find the data [here](https://raw.githubusercontent.com/axrd/datasets/master/gdpmessy2.csv). Should have a shape of (222,3). Use this [resource](https://www.iban.com/country-codes) to clean values correctly."
   ]
  },
  {
   "cell_type": "code",
   "execution_count": 2,
   "metadata": {
    "colab": {},
    "colab_type": "code",
    "id": "UNJo_50VktRs"
   },
   "outputs": [],
   "source": [
    "# Run this cell first to load the dataset.\n",
    "df = pd.read_csv('https://raw.githubusercontent.com/axrd/datasets/master/gdpmessy2.csv', index_col=0)"
   ]
  },
  {
   "cell_type": "markdown",
   "metadata": {
    "colab_type": "text",
    "id": "CYy4Zp5pk7tS"
   },
   "source": [
    "### Quickly inspect the head"
   ]
  },
  {
   "cell_type": "code",
   "execution_count": 3,
   "metadata": {
    "colab": {},
    "colab_type": "code",
    "id": "oclH_gyKL9ZJ"
   },
   "outputs": [
    {
     "name": "stdout",
     "output_type": "stream",
     "text": [
      "              countrys     GDP code\n",
      "0          Afghanistan   21.71  AFG\n",
      "1              Albania   13.40  ALB\n",
      "2              Algeria  227.80  DZA\n",
      "3       American Samoa    0.75  ASM\n",
      "4              Andorra    4.80  AND\n",
      "5               Angola  131.40  AGO\n",
      "6                  NaN    0.18  AIA\n",
      "7  Antigua and Barbuda    1.24  ATG\n",
      "8            Argentina  536.20  ARG\n",
      "9              Armenia   10.88  ARM\n"
     ]
    }
   ],
   "source": [
    "print(df.head(10))"
   ]
  },
  {
   "cell_type": "markdown",
   "metadata": {
    "colab_type": "text",
    "id": "125CV0jpQ5vT"
   },
   "source": [
    "### Inspect the tail"
   ]
  },
  {
   "cell_type": "code",
   "execution_count": 4,
   "metadata": {
    "colab": {},
    "colab_type": "code",
    "id": "sVdGZzfZMCFl"
   },
   "outputs": [
    {
     "name": "stdout",
     "output_type": "stream",
     "text": [
      "                countrys     GDP code\n",
      "212              Uruguay   55.60  URY\n",
      "213           Uzbekistan   63.08  UZB\n",
      "214              Vanuatu    0.82  VUT\n",
      "215            Venezuela  209.20  VEN\n",
      "216              Vietnam  187.80  VNM\n",
      "217  U.S. Virgin Islands    5.08  VIR\n",
      "218            West Bank    6.64  WBG\n",
      "219                Yemen   45.45  YEM\n",
      "220               Zambia   25.61  ZMB\n",
      "221             Zimbabwe   13.74  ZMB\n"
     ]
    }
   ],
   "source": [
    "print(df.(10))"
   ]
  },
  {
   "cell_type": "markdown",
   "metadata": {
    "colab_type": "text",
    "id": "CfUYIGiuQ-o0"
   },
   "source": [
    "### What is the shape of the DataFrame? Does it correspond to what we expected? "
   ]
  },
  {
   "cell_type": "code",
   "execution_count": 5,
   "metadata": {
    "colab": {},
    "colab_type": "code",
    "id": "VIFlAvxxMMvU"
   },
   "outputs": [
    {
     "name": "stdout",
     "output_type": "stream",
     "text": [
      "(222, 3)\n"
     ]
    }
   ],
   "source": [
    "print(df.shape)"
   ]
  },
  {
   "cell_type": "markdown",
   "metadata": {
    "colab_type": "text",
    "id": "7ecnTkAIQ_MW"
   },
   "source": [
    "### Missing values?\n",
    "Find all the missing values and correct them. "
   ]
  },
  {
   "cell_type": "code",
   "execution_count": 10,
   "metadata": {
    "colab": {},
    "colab_type": "code",
    "id": "ujSoAkmhMXs4"
   },
   "outputs": [
    {
     "name": "stdout",
     "output_type": "stream",
     "text": [
      "countrys    0\n",
      "GDP         0\n",
      "code        0\n",
      "dtype: int64\n",
      "countrys    0\n",
      "GDP         0\n",
      "code        0\n",
      "dtype: int64\n"
     ]
    }
   ],
   "source": [
    "\n",
    "print(df.isnull().sum())\n",
    "\n",
    "\n",
    "df = df.dropna()\n",
    "\n",
    "\n",
    "print(df.isnull().sum())"
   ]
  },
  {
   "cell_type": "code",
   "execution_count": 0,
   "metadata": {
    "colab": {},
    "colab_type": "code",
    "id": "D1vl5GLoMsBk"
   },
   "outputs": [],
   "source": [
    "# Now, you need to know which are your missing values so that you can replace them. \n",
    "# Hint: Explore the different methods that pandas dataframes have to clean your dataset. \n",
    "\n",
    "\n",
    "### YOUR CODE GOES HERE ###"
   ]
  },
  {
   "cell_type": "code",
   "execution_count": 0,
   "metadata": {
    "colab": {},
    "colab_type": "code",
    "id": "MwjYn6YaNRFp"
   },
   "outputs": [],
   "source": [
    "# Now that you know what is missing, you can \n",
    "# use this resource: https://www.iban.com/country-codes to clean the values correctly.\n",
    "\n",
    "### YOUR CODE GOES HERE ###"
   ]
  },
  {
   "cell_type": "code",
   "execution_count": 0,
   "metadata": {
    "colab": {},
    "colab_type": "code",
    "id": "pmWzDzoqNmHy"
   },
   "outputs": [],
   "source": [
    "# Finally, check that everything worked and you don't have any \n",
    "# missing values anymore. \n",
    "\n",
    "### YOUR CODE GOES HERE ###"
   ]
  },
  {
   "cell_type": "markdown",
   "metadata": {
    "colab_type": "text",
    "id": "p52saiQGbeMq"
   },
   "source": [
    "### Find duplicate values  \n",
    "Clean where necessary:  \n",
    "*   France has a GDP of 2902.0 billion.\n",
    "*   Ireland has a GDP of 245.80 billion.\n",
    "*   Bangladesh has a GDP of 186.60 billion."
   ]
  },
  {
   "cell_type": "code",
   "execution_count": 13,
   "metadata": {
    "colab": {},
    "colab_type": "code",
    "id": "O2O-U2L5Ny-q"
   },
   "outputs": [
    {
     "ename": "KeyError",
     "evalue": "'countries'",
     "output_type": "error",
     "traceback": [
      "\u001b[1;31m---------------------------------------------------------------------------\u001b[0m",
      "\u001b[1;31mKeyError\u001b[0m                                  Traceback (most recent call last)",
      "\u001b[1;32m~\\anaconda3\\lib\\site-packages\\pandas\\core\\indexes\\base.py\u001b[0m in \u001b[0;36mget_loc\u001b[1;34m(self, key, method, tolerance)\u001b[0m\n\u001b[0;32m   3360\u001b[0m             \u001b[1;32mtry\u001b[0m\u001b[1;33m:\u001b[0m\u001b[1;33m\u001b[0m\u001b[1;33m\u001b[0m\u001b[0m\n\u001b[1;32m-> 3361\u001b[1;33m                 \u001b[1;32mreturn\u001b[0m \u001b[0mself\u001b[0m\u001b[1;33m.\u001b[0m\u001b[0m_engine\u001b[0m\u001b[1;33m.\u001b[0m\u001b[0mget_loc\u001b[0m\u001b[1;33m(\u001b[0m\u001b[0mcasted_key\u001b[0m\u001b[1;33m)\u001b[0m\u001b[1;33m\u001b[0m\u001b[1;33m\u001b[0m\u001b[0m\n\u001b[0m\u001b[0;32m   3362\u001b[0m             \u001b[1;32mexcept\u001b[0m \u001b[0mKeyError\u001b[0m \u001b[1;32mas\u001b[0m \u001b[0merr\u001b[0m\u001b[1;33m:\u001b[0m\u001b[1;33m\u001b[0m\u001b[1;33m\u001b[0m\u001b[0m\n",
      "\u001b[1;32m~\\anaconda3\\lib\\site-packages\\pandas\\_libs\\index.pyx\u001b[0m in \u001b[0;36mpandas._libs.index.IndexEngine.get_loc\u001b[1;34m()\u001b[0m\n",
      "\u001b[1;32m~\\anaconda3\\lib\\site-packages\\pandas\\_libs\\index.pyx\u001b[0m in \u001b[0;36mpandas._libs.index.IndexEngine.get_loc\u001b[1;34m()\u001b[0m\n",
      "\u001b[1;32mpandas\\_libs\\hashtable_class_helper.pxi\u001b[0m in \u001b[0;36mpandas._libs.hashtable.PyObjectHashTable.get_item\u001b[1;34m()\u001b[0m\n",
      "\u001b[1;32mpandas\\_libs\\hashtable_class_helper.pxi\u001b[0m in \u001b[0;36mpandas._libs.hashtable.PyObjectHashTable.get_item\u001b[1;34m()\u001b[0m\n",
      "\u001b[1;31mKeyError\u001b[0m: 'countries'",
      "\nThe above exception was the direct cause of the following exception:\n",
      "\u001b[1;31mKeyError\u001b[0m                                  Traceback (most recent call last)",
      "\u001b[1;32m~\\AppData\\Local\\Temp/ipykernel_6480/3614055822.py\u001b[0m in \u001b[0;36m<module>\u001b[1;34m\u001b[0m\n\u001b[1;32m----> 1\u001b[1;33m \u001b[0mprint\u001b[0m\u001b[1;33m(\u001b[0m\u001b[0mdf\u001b[0m\u001b[1;33m[\u001b[0m\u001b[1;34m\"countries\"\u001b[0m\u001b[1;33m]\u001b[0m\u001b[1;33m.\u001b[0m\u001b[0mvalue_counts\u001b[0m\u001b[1;33m(\u001b[0m\u001b[1;33m)\u001b[0m\u001b[1;33m[\u001b[0m\u001b[0mdf\u001b[0m\u001b[1;33m[\u001b[0m\u001b[1;34m\"countries\"\u001b[0m\u001b[1;33m]\u001b[0m\u001b[1;33m.\u001b[0m\u001b[0mvalue_counts\u001b[0m\u001b[1;33m(\u001b[0m\u001b[1;33m)\u001b[0m \u001b[1;33m>\u001b[0m \u001b[1;36m1\u001b[0m\u001b[1;33m]\u001b[0m\u001b[1;33m)\u001b[0m\u001b[1;33m\u001b[0m\u001b[1;33m\u001b[0m\u001b[0m\n\u001b[0m",
      "\u001b[1;32m~\\anaconda3\\lib\\site-packages\\pandas\\core\\frame.py\u001b[0m in \u001b[0;36m__getitem__\u001b[1;34m(self, key)\u001b[0m\n\u001b[0;32m   3456\u001b[0m             \u001b[1;32mif\u001b[0m \u001b[0mself\u001b[0m\u001b[1;33m.\u001b[0m\u001b[0mcolumns\u001b[0m\u001b[1;33m.\u001b[0m\u001b[0mnlevels\u001b[0m \u001b[1;33m>\u001b[0m \u001b[1;36m1\u001b[0m\u001b[1;33m:\u001b[0m\u001b[1;33m\u001b[0m\u001b[1;33m\u001b[0m\u001b[0m\n\u001b[0;32m   3457\u001b[0m                 \u001b[1;32mreturn\u001b[0m \u001b[0mself\u001b[0m\u001b[1;33m.\u001b[0m\u001b[0m_getitem_multilevel\u001b[0m\u001b[1;33m(\u001b[0m\u001b[0mkey\u001b[0m\u001b[1;33m)\u001b[0m\u001b[1;33m\u001b[0m\u001b[1;33m\u001b[0m\u001b[0m\n\u001b[1;32m-> 3458\u001b[1;33m             \u001b[0mindexer\u001b[0m \u001b[1;33m=\u001b[0m \u001b[0mself\u001b[0m\u001b[1;33m.\u001b[0m\u001b[0mcolumns\u001b[0m\u001b[1;33m.\u001b[0m\u001b[0mget_loc\u001b[0m\u001b[1;33m(\u001b[0m\u001b[0mkey\u001b[0m\u001b[1;33m)\u001b[0m\u001b[1;33m\u001b[0m\u001b[1;33m\u001b[0m\u001b[0m\n\u001b[0m\u001b[0;32m   3459\u001b[0m             \u001b[1;32mif\u001b[0m \u001b[0mis_integer\u001b[0m\u001b[1;33m(\u001b[0m\u001b[0mindexer\u001b[0m\u001b[1;33m)\u001b[0m\u001b[1;33m:\u001b[0m\u001b[1;33m\u001b[0m\u001b[1;33m\u001b[0m\u001b[0m\n\u001b[0;32m   3460\u001b[0m                 \u001b[0mindexer\u001b[0m \u001b[1;33m=\u001b[0m \u001b[1;33m[\u001b[0m\u001b[0mindexer\u001b[0m\u001b[1;33m]\u001b[0m\u001b[1;33m\u001b[0m\u001b[1;33m\u001b[0m\u001b[0m\n",
      "\u001b[1;32m~\\anaconda3\\lib\\site-packages\\pandas\\core\\indexes\\base.py\u001b[0m in \u001b[0;36mget_loc\u001b[1;34m(self, key, method, tolerance)\u001b[0m\n\u001b[0;32m   3361\u001b[0m                 \u001b[1;32mreturn\u001b[0m \u001b[0mself\u001b[0m\u001b[1;33m.\u001b[0m\u001b[0m_engine\u001b[0m\u001b[1;33m.\u001b[0m\u001b[0mget_loc\u001b[0m\u001b[1;33m(\u001b[0m\u001b[0mcasted_key\u001b[0m\u001b[1;33m)\u001b[0m\u001b[1;33m\u001b[0m\u001b[1;33m\u001b[0m\u001b[0m\n\u001b[0;32m   3362\u001b[0m             \u001b[1;32mexcept\u001b[0m \u001b[0mKeyError\u001b[0m \u001b[1;32mas\u001b[0m \u001b[0merr\u001b[0m\u001b[1;33m:\u001b[0m\u001b[1;33m\u001b[0m\u001b[1;33m\u001b[0m\u001b[0m\n\u001b[1;32m-> 3363\u001b[1;33m                 \u001b[1;32mraise\u001b[0m \u001b[0mKeyError\u001b[0m\u001b[1;33m(\u001b[0m\u001b[0mkey\u001b[0m\u001b[1;33m)\u001b[0m \u001b[1;32mfrom\u001b[0m \u001b[0merr\u001b[0m\u001b[1;33m\u001b[0m\u001b[1;33m\u001b[0m\u001b[0m\n\u001b[0m\u001b[0;32m   3364\u001b[0m \u001b[1;33m\u001b[0m\u001b[0m\n\u001b[0;32m   3365\u001b[0m         \u001b[1;32mif\u001b[0m \u001b[0mis_scalar\u001b[0m\u001b[1;33m(\u001b[0m\u001b[0mkey\u001b[0m\u001b[1;33m)\u001b[0m \u001b[1;32mand\u001b[0m \u001b[0misna\u001b[0m\u001b[1;33m(\u001b[0m\u001b[0mkey\u001b[0m\u001b[1;33m)\u001b[0m \u001b[1;32mand\u001b[0m \u001b[1;32mnot\u001b[0m \u001b[0mself\u001b[0m\u001b[1;33m.\u001b[0m\u001b[0mhasnans\u001b[0m\u001b[1;33m:\u001b[0m\u001b[1;33m\u001b[0m\u001b[1;33m\u001b[0m\u001b[0m\n",
      "\u001b[1;31mKeyError\u001b[0m: 'countries'"
     ]
    }
   ],
   "source": [
    "print(df[\"countries\"].value_counts()[df[\"countries\"].value_counts() > 1])"
   ]
  },
  {
   "cell_type": "code",
   "execution_count": 0,
   "metadata": {
    "colab": {},
    "colab_type": "code",
    "id": "6aC4hKI4N9Bi"
   },
   "outputs": [],
   "source": [
    "# Check for duplicates in \"GDP\"\n",
    "\n",
    "### YOUR CODE GOES HERE ###"
   ]
  },
  {
   "cell_type": "code",
   "execution_count": 0,
   "metadata": {
    "colab": {},
    "colab_type": "code",
    "id": "vHblqoEyOP83"
   },
   "outputs": [],
   "source": [
    "# Check for duplicates in \"code\"\n",
    "\n",
    "### YOUR CODE GOES HERE ###"
   ]
  },
  {
   "cell_type": "code",
   "execution_count": 0,
   "metadata": {
    "colab": {},
    "colab_type": "code",
    "id": "WLNtHPYUPir4"
   },
   "outputs": [],
   "source": [
    "# Solve any issues you found\n",
    "\n",
    "### YOUR CODE GOES HERE ###"
   ]
  },
  {
   "cell_type": "markdown",
   "metadata": {
    "colab_type": "text",
    "id": "Y7arWL1sblgY"
   },
   "source": [
    "### Verify the change persisted!"
   ]
  },
  {
   "cell_type": "code",
   "execution_count": 0,
   "metadata": {
    "colab": {},
    "colab_type": "code",
    "id": "CnwAqX-wP9oN"
   },
   "outputs": [],
   "source": [
    "### YOUR CODE GOES HERE ###"
   ]
  },
  {
   "cell_type": "markdown",
   "metadata": {
    "colab_type": "text",
    "id": "D3B3Z8GvcY4Q"
   },
   "source": [
    "### You did it! This was quite a challenging exercise. Congratulations on your perseverance. See you on the next one.\n",
    "\n",
    "\n",
    "---\n"
   ]
  }
 ],
 "metadata": {
  "colab": {
   "collapsed_sections": [],
   "name": "Cleaning Data - EXERCISE.ipynb",
   "provenance": [
    {
     "file_id": "1nvxLOz5emvZc5EiPeK3IocMKbGEWtLcq",
     "timestamp": 1574191889840
    },
    {
     "file_id": "1XCXHPOyJJYCisFkNQiMfN7PwoWpiavCW",
     "timestamp": 1567181531099
    },
    {
     "file_id": "1WMpsBAna7qYSPwn1tFKSEfkZjY3BZHuY",
     "timestamp": 1560422997408
    },
    {
     "file_id": "1n6NmJmUpxhIPn4ZCsbK2tiV6PZ6MDD00",
     "timestamp": 1560410483688
    },
    {
     "file_id": "1wlKS2ySxKKZ6msBXn-8S8qe-4rRoWSKI",
     "timestamp": 1560402395187
    },
    {
     "file_id": "1scRLpBtHS0jXC72opqLsj3wMHilVELnZ",
     "timestamp": 1560164436155
    },
    {
     "file_id": "1Gj8xFEghBwX8exDkdBWvNSzOUTYlNxI9",
     "timestamp": 1559546697443
    },
    {
     "file_id": "1TeHiJ5s48kWFy5BosIWhjK2MQyMkPHNo",
     "timestamp": 1559546187577
    },
    {
     "file_id": "1f_9CXFJzBvrAePaDr_WYQGHEBS5th53b",
     "timestamp": 1559541190636
    }
   ]
  },
  "kernelspec": {
   "display_name": "Python 3 (ipykernel)",
   "language": "python",
   "name": "python3"
  },
  "language_info": {
   "codemirror_mode": {
    "name": "ipython",
    "version": 3
   },
   "file_extension": ".py",
   "mimetype": "text/x-python",
   "name": "python",
   "nbconvert_exporter": "python",
   "pygments_lexer": "ipython3",
   "version": "3.9.7"
  }
 },
 "nbformat": 4,
 "nbformat_minor": 1
}
