{
 "cells": [
  {
   "cell_type": "markdown",
   "metadata": {
    "colab_type": "text",
    "id": "ZvNsvUNNlZbi"
   },
   "source": [
    "---\n",
    "# Crash Course Python for Data Science  - Intro to Pandas \n",
    "---\n",
    "# 04 - Basic Visualizations\n",
    "---\n",
    "\n"
   ]
  },
  {
   "cell_type": "markdown",
   "metadata": {
    "colab_type": "text",
    "id": "f7sGhOifhpFD"
   },
   "source": [
    "### Visualizing data speeds things up\n",
    "You know the saying, \"*a picture is worth a thousand words*?\" That applies to the world of data science as well. Visualizations are arguably the best way to communicate your insights to others. Moreover, they can help you in your exploratory data analysis (EDA) by highlighting certain patterns in your data and surfacing outliers or errors. Depending on the type of data, you'll want to use different visualizations. For now, we'll focus on discrete and continuous data.   \n",
    "\n",
    "**Discrete** basically means that it can only take specific values within a range. For example, if you recorded the gender of every person in this class, you'd have a discrete number of men or women. It would not make sense to say that \"there are 1.98 men\" or \"20.2 women.\" But if you were to take everyone's height, that would be a **continuous** variable. Because you can have a student that's 5 feet and 11.322243 inches tall. Or a woman that is 5 feet and 4.902929930 inches tall. In other words, continuous data is not restricted to specific, separate values. \n",
    "\n",
    "\n",
    "Python has _plenty_ of data visualization libraries. We'll use **matplotlib** today."
   ]
  },
  {
   "cell_type": "markdown",
   "metadata": {
    "colab_type": "text",
    "id": "veCoTayWYvhi"
   },
   "source": [
    "### Begin by importing your tools"
   ]
  },
  {
   "cell_type": "code",
   "execution_count": 1,
   "metadata": {
    "colab": {},
    "colab_type": "code",
    "id": "lwG232gHDwLT"
   },
   "outputs": [
    {
     "name": "stdout",
     "output_type": "stream",
     "text": [
      "Libraries imported\n"
     ]
    }
   ],
   "source": [
    "# Let's begin by importing pandas and matplotlib.\n",
    "import pandas as pd\n",
    "import matplotlib.pyplot as plt\n",
    "\n",
    "# This is to style the plots the way I like them! Personal preference\n",
    "# Funny note: ggplot is an R library that everyone loves, including me. So\n",
    "# someone created a ggplot style for python graphs!\n",
    "\n",
    "plt.style.use(style='ggplot') \n",
    "plt.rcParams['figure.figsize'] = (10, 6)\n",
    "\n",
    "print('Libraries imported')"
   ]
  },
  {
   "cell_type": "markdown",
   "metadata": {
    "colab_type": "text",
    "id": "oRH-6zIAX6D4"
   },
   "source": [
    "## Reading in your data"
   ]
  },
  {
   "cell_type": "code",
   "execution_count": 2,
   "metadata": {
    "colab": {},
    "colab_type": "code",
    "id": "2-4aaacNyNl1"
   },
   "outputs": [
    {
     "name": "stdout",
     "output_type": "stream",
     "text": [
      "(244, 7)\n"
     ]
    },
    {
     "data": {
      "text/html": [
       "<div>\n",
       "<style scoped>\n",
       "    .dataframe tbody tr th:only-of-type {\n",
       "        vertical-align: middle;\n",
       "    }\n",
       "\n",
       "    .dataframe tbody tr th {\n",
       "        vertical-align: top;\n",
       "    }\n",
       "\n",
       "    .dataframe thead th {\n",
       "        text-align: right;\n",
       "    }\n",
       "</style>\n",
       "<table border=\"1\" class=\"dataframe\">\n",
       "  <thead>\n",
       "    <tr style=\"text-align: right;\">\n",
       "      <th></th>\n",
       "      <th>total_bill</th>\n",
       "      <th>tip</th>\n",
       "      <th>sex</th>\n",
       "      <th>smoker</th>\n",
       "      <th>day</th>\n",
       "      <th>time</th>\n",
       "      <th>size</th>\n",
       "    </tr>\n",
       "  </thead>\n",
       "  <tbody>\n",
       "    <tr>\n",
       "      <th>0</th>\n",
       "      <td>16.99</td>\n",
       "      <td>1.01</td>\n",
       "      <td>Female</td>\n",
       "      <td>No</td>\n",
       "      <td>Sun</td>\n",
       "      <td>Dinner</td>\n",
       "      <td>2</td>\n",
       "    </tr>\n",
       "    <tr>\n",
       "      <th>1</th>\n",
       "      <td>10.34</td>\n",
       "      <td>1.66</td>\n",
       "      <td>Male</td>\n",
       "      <td>No</td>\n",
       "      <td>Sun</td>\n",
       "      <td>Dinner</td>\n",
       "      <td>3</td>\n",
       "    </tr>\n",
       "    <tr>\n",
       "      <th>2</th>\n",
       "      <td>21.01</td>\n",
       "      <td>3.50</td>\n",
       "      <td>Male</td>\n",
       "      <td>No</td>\n",
       "      <td>Sun</td>\n",
       "      <td>Dinner</td>\n",
       "      <td>3</td>\n",
       "    </tr>\n",
       "    <tr>\n",
       "      <th>3</th>\n",
       "      <td>23.68</td>\n",
       "      <td>3.31</td>\n",
       "      <td>Male</td>\n",
       "      <td>No</td>\n",
       "      <td>Sun</td>\n",
       "      <td>Dinner</td>\n",
       "      <td>2</td>\n",
       "    </tr>\n",
       "    <tr>\n",
       "      <th>4</th>\n",
       "      <td>24.59</td>\n",
       "      <td>3.61</td>\n",
       "      <td>Female</td>\n",
       "      <td>No</td>\n",
       "      <td>Sun</td>\n",
       "      <td>Dinner</td>\n",
       "      <td>4</td>\n",
       "    </tr>\n",
       "  </tbody>\n",
       "</table>\n",
       "</div>"
      ],
      "text/plain": [
       "   total_bill   tip     sex smoker  day    time  size\n",
       "0       16.99  1.01  Female     No  Sun  Dinner     2\n",
       "1       10.34  1.66    Male     No  Sun  Dinner     3\n",
       "2       21.01  3.50    Male     No  Sun  Dinner     3\n",
       "3       23.68  3.31    Male     No  Sun  Dinner     2\n",
       "4       24.59  3.61  Female     No  Sun  Dinner     4"
      ]
     },
     "execution_count": 2,
     "metadata": {},
     "output_type": "execute_result"
    }
   ],
   "source": [
    "# We use the pandas method pandas.read_csv(\"filepath\") to create a DataFrame \n",
    "# and assign it to a variable:\n",
    "\n",
    "df = pd.read_csv(\"https://raw.githubusercontent.com/axrd/datasets/master/tipdata.csv\", usecols=['total_bill', 'tip', 'sex', 'smoker', 'day', 'time', 'size'])\n",
    "print(df.shape)\n",
    "df.head()"
   ]
  },
  {
   "cell_type": "markdown",
   "metadata": {
    "colab_type": "text",
    "id": "TXvBbG-M2BQR"
   },
   "source": [
    "## Histogram  \n",
    "Histograms are best suited for visualizing *CONTINUOUS* data, one variable at a time. The x-axis shows the range of values being counted. The y-axis shows the frequency, or how often those values show up in our data.  \n",
    "\n",
    "\n",
    "[Documentation](https://pandas.pydata.org/pandas-docs/stable/reference/api/pandas.DataFrame.plot.html)"
   ]
  },
  {
   "cell_type": "code",
   "execution_count": 11,
   "metadata": {
    "colab": {},
    "colab_type": "code",
    "id": "JZ2o7IIyuvGI"
   },
   "outputs": [
    {
     "ename": "SyntaxError",
     "evalue": "invalid syntax (Temp/ipykernel_11156/3726796137.py, line 4)",
     "output_type": "error",
     "traceback": [
      "\u001b[1;36m  File \u001b[1;32m\"C:\\Users\\86157\\AppData\\Local\\Temp/ipykernel_11156/3726796137.py\"\u001b[1;36m, line \u001b[1;32m4\u001b[0m\n\u001b[1;33m    We select a column/feature, chain the plot() method to it, and pass the string\u001b[0m\n\u001b[1;37m       ^\u001b[0m\n\u001b[1;31mSyntaxError\u001b[0m\u001b[1;31m:\u001b[0m invalid syntax\n"
     ]
    }
   ],
   "source": [
    "# Here's a great way to get an overview of our data:\n",
    "df['tip'].plot('hist', title='Tip Distribution', bins=40)\n",
    "\n",
    "We select a column/feature, chain the plot() method to it, and pass the string\n",
    "'hist' to the plot method to specify a histogram. Finally, we call the show() \n",
    "method to display the visualization. import matplotlib.pyplot as plt\n",
    "\n"
   ]
  },
  {
   "cell_type": "code",
   "execution_count": 12,
   "metadata": {
    "colab": {},
    "colab_type": "code",
    "id": "Ek9TJBnBWuwQ"
   },
   "outputs": [
    {
     "data": {
      "image/png": "[encoded data removed]",
      "text/plain": [
       "<Figure size 720x432 with 1 Axes>"
      ]
     },
     "metadata": {},
     "output_type": "display_data"
    }
   ],
   "source": [
    "# Here's another way to do the same thing with a different feature/column:\n",
    "\n",
    "df['total_bill'].hist(bins=40);"
   ]
  },
  {
   "cell_type": "code",
   "execution_count": 13,
   "metadata": {
    "colab": {},
    "colab_type": "code",
    "id": "uepBUxTkM0Dq"
   },
   "outputs": [
    {
     "data": {
      "image/png": "[encoded data removed]",
      "text/plain": [
       "<Figure size 720x432 with 1 Axes>"
      ]
     },
     "metadata": {},
     "output_type": "display_data"
    }
   ],
   "source": [
    "# Here's a differnet default plot called a density plot or KDE plot (kernel density estimation)\n",
    "# Basically it smooths out a histogram and has an area under the curve of 1.\n",
    "\n",
    "df['total_bill'].plot.density();"
   ]
  },
  {
   "cell_type": "code",
   "execution_count": 14,
   "metadata": {
    "colab": {},
    "colab_type": "code",
    "id": "BVz5opPmX-Cm"
   },
   "outputs": [
    {
     "data": {
      "image/png": "[encoded data removed]",
      "text/plain": [
       "<Figure size 720x432 with 1 Axes>"
      ]
     },
     "metadata": {},
     "output_type": "display_data"
    }
   ],
   "source": [
    "df['size'].hist(bins=20);"
   ]
  },
  {
   "cell_type": "code",
   "execution_count": 15,
   "metadata": {
    "colab": {},
    "colab_type": "code",
    "id": "BPXcTthwEVi3"
   },
   "outputs": [
    {
     "data": {
      "text/plain": [
       "2    156\n",
       "3     38\n",
       "4     37\n",
       "5      5\n",
       "1      4\n",
       "6      4\n",
       "Name: size, dtype: int64"
      ]
     },
     "execution_count": 15,
     "metadata": {},
     "output_type": "execute_result"
    }
   ],
   "source": [
    "df['size'].value_counts()"
   ]
  },
  {
   "cell_type": "markdown",
   "metadata": {
    "colab_type": "text",
    "id": "-z392XOEYExS"
   },
   "source": [
    "That looks a bit weird. The columns begin after (or before) the number ticks. That's because \"size\" is a discrete variable and histograms expect continuous values."
   ]
  },
  {
   "cell_type": "markdown",
   "metadata": {
    "colab_type": "text",
    "id": "X239QCLc1uI5"
   },
   "source": [
    "## Bar plot  \n",
    "Useful for discrete data counts. "
   ]
  },
  {
   "cell_type": "code",
   "execution_count": 0,
   "metadata": {
    "colab": {},
    "colab_type": "code",
    "id": "TPr2efsvfAXk"
   },
   "outputs": [],
   "source": [
    "# Same as above, but using the correct visualization:\n",
    "df['size'].value_counts().plot(kind='bar');"
   ]
  },
  {
   "cell_type": "code",
   "execution_count": 0,
   "metadata": {
    "colab": {},
    "colab_type": "code",
    "id": "iwSL8__3E-ws"
   },
   "outputs": [],
   "source": [
    "df['day'].value_counts()"
   ]
  },
  {
   "cell_type": "code",
   "execution_count": 0,
   "metadata": {
    "colab": {},
    "colab_type": "code",
    "id": "UhXr3OYH5hX5"
   },
   "outputs": [],
   "source": [
    "# Same thing, but for \"day\":\n",
    "df['day'].value_counts().plot(kind='bar');"
   ]
  },
  {
   "cell_type": "code",
   "execution_count": 0,
   "metadata": {
    "colab": {},
    "colab_type": "code",
    "id": "g4hLUhyDe291"
   },
   "outputs": [],
   "source": [
    "# If you fancy a horizontal view, \"barh\":\n",
    "df['day'].value_counts().plot(kind='barh');"
   ]
  },
  {
   "cell_type": "markdown",
   "metadata": {
    "colab_type": "text",
    "id": "TR0Y4x49XyY4"
   },
   "source": [
    "## Scatter plot  \n",
    "Useful to visualize the relationship between two numeric variables."
   ]
  },
  {
   "cell_type": "code",
   "execution_count": 0,
   "metadata": {
    "colab": {},
    "colab_type": "code",
    "id": "e4KGpNxcYWY4"
   },
   "outputs": [],
   "source": [
    "df.plot.scatter(x='total_bill', y='tip');"
   ]
  },
  {
   "cell_type": "code",
   "execution_count": 0,
   "metadata": {
    "colab": {},
    "colab_type": "code",
    "id": "BGzO4kA6Fi4o"
   },
   "outputs": [],
   "source": [
    "df.plot.scatter(x='total_bill', y='size');"
   ]
  },
  {
   "cell_type": "markdown",
   "metadata": {
    "colab_type": "text",
    "id": "F8N-D9NOfgkE"
   },
   "source": [
    "As we'd imagine, the bigger the bill, the bigger the tip. "
   ]
  },
  {
   "cell_type": "markdown",
   "metadata": {
    "colab_type": "text",
    "id": "7BqbpyNyzxqk"
   },
   "source": [
    "## Boxplots  \n",
    "Great way to find outliers (values that are really far from the rest of their type)."
   ]
  },
  {
   "cell_type": "code",
   "execution_count": 0,
   "metadata": {
    "colab": {},
    "colab_type": "code",
    "id": "1-RFTwehGCXd"
   },
   "outputs": [],
   "source": [
    "df.describe()"
   ]
  },
  {
   "cell_type": "code",
   "execution_count": 0,
   "metadata": {
    "colab": {},
    "colab_type": "code",
    "id": "u49qzTU-_UD7"
   },
   "outputs": [],
   "source": [
    "df.boxplot(column='tip', by='size')\n",
    "plt.show()"
   ]
  },
  {
   "cell_type": "markdown",
   "metadata": {
    "colab_type": "text",
    "id": "pNtfYCk-_VBw"
   },
   "source": [
    "\n",
    "\n",
    "---\n",
    "\n",
    "\n",
    "## That was a quick one! "
   ]
  }
 ],
 "metadata": {
  "colab": {
   "collapsed_sections": [],
   "name": "Basic Visualizations - WORKSHOP NOTES.ipynb",
   "provenance": [
    {
     "file_id": "1Bp9ksC4uQDZLC2v_OcUAD-aI22CCdxj3",
     "timestamp": 1575390779410
    },
    {
     "file_id": "14LWWacQs0274LregQuQa80Dqb20lnOyy",
     "timestamp": 1567181778321
    },
    {
     "file_id": "1gYE3Gb64a1GtJFdSCtbT8ZKgCyecw17N",
     "timestamp": 1561709371623
    },
    {
     "file_id": "1OZRg4rYXxrHVxOhuCaLnr0a1a4arXbJ0",
     "timestamp": 1560422987513
    },
    {
     "file_id": "14--7Sqk2BasgM9A3JfgEUHDDShkJUeNI",
     "timestamp": 1560417425558
    },
    {
     "file_id": "18Vp28B-7YMjcdeszjEtJQUlWEKIQxdjq",
     "timestamp": 1560410473585
    },
    {
     "file_id": "1l_W74rzq1-4KTxnN3LUWUmbIjWBrEvRK",
     "timestamp": 1560402405234
    },
    {
     "file_id": "1Gj8xFEghBwX8exDkdBWvNSzOUTYlNxI9",
     "timestamp": 1560164255413
    },
    {
     "file_id": "1TeHiJ5s48kWFy5BosIWhjK2MQyMkPHNo",
     "timestamp": 1559546187577
    },
    {
     "file_id": "1f_9CXFJzBvrAePaDr_WYQGHEBS5th53b",
     "timestamp": 1559541190636
    }
   ]
  },
  "kernelspec": {
   "display_name": "Python 3 (ipykernel)",
   "language": "python",
   "name": "python3"
  },
  "language_info": {
   "codemirror_mode": {
    "name": "ipython",
    "version": 3
   },
   "file_extension": ".py",
   "mimetype": "text/x-python",
   "name": "python",
   "nbconvert_exporter": "python",
   "pygments_lexer": "ipython3",
   "version": "3.9.7"
  }
 },
 "nbformat": 4,
 "nbformat_minor": 1
}
