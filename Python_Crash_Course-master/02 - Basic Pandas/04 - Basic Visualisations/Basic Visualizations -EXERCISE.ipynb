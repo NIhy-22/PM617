{
 "cells": [
  {
   "cell_type": "markdown",
   "metadata": {
    "colab_type": "text",
    "id": "ZvNsvUNNlZbi"
   },
   "source": [
    "---\n",
    "#Crash Course Python for Data Science - Intro to Pandas\n",
    "---\n",
    "# 05 - Basic Visualizations\n",
    "---\n",
    "\n"
   ]
  },
  {
   "cell_type": "markdown",
   "metadata": {
    "colab_type": "text",
    "id": "y8HUQb0OOztX"
   },
   "source": [
    "## STOP! BEFORE GOING ANY FURTHER...  \n",
    "\n",
    "Remember, this exercises are open book, open neighbour, open everything! Try to do them on your own before looking at the solution samples.\n",
    "\n",
    "\n"
   ]
  },
  {
   "cell_type": "markdown",
   "metadata": {
    "colab_type": "text",
    "id": "xMq6Of2Gt24o"
   },
   "source": [
    "### Import pandas & matplotlib"
   ]
  },
  {
   "cell_type": "code",
   "execution_count": 1,
   "metadata": {
    "colab": {},
    "colab_type": "code",
    "id": "h3r0IvHVuGJb"
   },
   "outputs": [
    {
     "name": "stdout",
     "output_type": "stream",
     "text": [
      "Libraries imported!\n"
     ]
    }
   ],
   "source": [
    "# Run this first!\n",
    "import pandas as pd, matplotlib.pyplot as plt\n",
    "plt.style.use(style='ggplot')\n",
    "plt.rcParams['figure.figsize'] = (10, 6)\n",
    "\n",
    "print('Libraries imported!')"
   ]
  },
  {
   "cell_type": "markdown",
   "metadata": {
    "colab_type": "text",
    "id": "DvYie7qokbDH"
   },
   "source": [
    "### Import the data in the CSV file\n",
    "You can find the data [here](https://raw.githubusercontent.com/plotly/datasets/master/data.csv). Should have a shape of (150000,11). Use this [resource](https://github.com/plotly/datasets/blob/master/data_dictionary.csv) for context."
   ]
  },
  {
   "cell_type": "code",
   "execution_count": 3,
   "metadata": {
    "colab": {},
    "colab_type": "code",
    "id": "jHRizC67W7nC"
   },
   "outputs": [],
   "source": [
    "url = \"https://raw.githubusercontent.com/plotly/datasets/master/data.csv\"\n",
    "df = pd.read_csv(url)"
   ]
  },
  {
   "cell_type": "code",
   "execution_count": 4,
   "metadata": {},
   "outputs": [
    {
     "name": "stdout",
     "output_type": "stream",
     "text": [
      "   SeriousDlqin2yrs  RevolvingUtilizationOfUnsecuredLines  age  \\\n",
      "0                 1                              0.766127   45   \n",
      "1                 0                              0.957151   40   \n",
      "2                 0                              0.658180   38   \n",
      "3                 0                              0.233810   30   \n",
      "4                 0                              0.907239   49   \n",
      "\n",
      "   NumberOfTime30-59DaysPastDueNotWorse  DebtRatio  MonthlyIncome  \\\n",
      "0                                     2   0.802982         9120.0   \n",
      "1                                     0   0.121876         2600.0   \n",
      "2                                     1   0.085113         3042.0   \n",
      "3                                     0   0.036050         3300.0   \n",
      "4                                     1   0.024926        63588.0   \n",
      "\n",
      "   NumberOfOpenCreditLinesAndLoans  NumberOfTimes90DaysLate  \\\n",
      "0                               13                        0   \n",
      "1                                4                        0   \n",
      "2                                2                        1   \n",
      "3                                5                        0   \n",
      "4                                7                        0   \n",
      "\n",
      "   NumberRealEstateLoansOrLines  NumberOfTime60-89DaysPastDueNotWorse  \\\n",
      "0                             6                                     0   \n",
      "1                             0                                     0   \n",
      "2                             0                                     0   \n",
      "3                             0                                     0   \n",
      "4                             1                                     0   \n",
      "\n",
      "   NumberOfDependents  \n",
      "0                 2.0  \n",
      "1                 1.0  \n",
      "2                 0.0  \n",
      "3                 0.0  \n",
      "4                 0.0  \n",
      "(150000, 11)\n"
     ]
    }
   ],
   "source": [
    "\n",
    "\n",
    "print(df.head())\n",
    "\n",
    "print(df.shape)  "
   ]
  },
  {
   "cell_type": "code",
   "execution_count": 5,
   "metadata": {
    "cellView": "form",
    "colab": {},
    "colab_type": "code",
    "id": "UNJo_50VktRs"
   },
   "outputs": [
    {
     "data": {
      "text/plain": [
       "(150000, 11)"
      ]
     },
     "execution_count": 5,
     "metadata": {},
     "output_type": "execute_result"
    }
   ],
   "source": [
    "#@title Double click here for a sample solution\n",
    "\n",
    "df = pd.read_csv('https://raw.githubusercontent.com/plotly/datasets/master/data.csv')\n",
    "df.shape"
   ]
  },
  {
   "cell_type": "markdown",
   "metadata": {
    "colab_type": "text",
    "id": "CYy4Zp5pk7tS"
   },
   "source": [
    "### Quickly inspect the head"
   ]
  },
  {
   "cell_type": "code",
   "execution_count": 6,
   "metadata": {
    "colab": {},
    "colab_type": "code",
    "id": "75JI1jPcXUBX"
   },
   "outputs": [
    {
     "name": "stdout",
     "output_type": "stream",
     "text": [
      "   SeriousDlqin2yrs  RevolvingUtilizationOfUnsecuredLines  age  \\\n",
      "0                 1                              0.766127   45   \n",
      "1                 0                              0.957151   40   \n",
      "2                 0                              0.658180   38   \n",
      "3                 0                              0.233810   30   \n",
      "4                 0                              0.907239   49   \n",
      "\n",
      "   NumberOfTime30-59DaysPastDueNotWorse  DebtRatio  MonthlyIncome  \\\n",
      "0                                     2   0.802982         9120.0   \n",
      "1                                     0   0.121876         2600.0   \n",
      "2                                     1   0.085113         3042.0   \n",
      "3                                     0   0.036050         3300.0   \n",
      "4                                     1   0.024926        63588.0   \n",
      "\n",
      "   NumberOfOpenCreditLinesAndLoans  NumberOfTimes90DaysLate  \\\n",
      "0                               13                        0   \n",
      "1                                4                        0   \n",
      "2                                2                        1   \n",
      "3                                5                        0   \n",
      "4                                7                        0   \n",
      "\n",
      "   NumberRealEstateLoansOrLines  NumberOfTime60-89DaysPastDueNotWorse  \\\n",
      "0                             6                                     0   \n",
      "1                             0                                     0   \n",
      "2                             0                                     0   \n",
      "3                             0                                     0   \n",
      "4                             1                                     0   \n",
      "\n",
      "   NumberOfDependents  \n",
      "0                 2.0  \n",
      "1                 1.0  \n",
      "2                 0.0  \n",
      "3                 0.0  \n",
      "4                 0.0  \n"
     ]
    }
   ],
   "source": [
    "print(df.head())"
   ]
  },
  {
   "cell_type": "markdown",
   "metadata": {
    "colab_type": "text",
    "id": "125CV0jpQ5vT"
   },
   "source": [
    "### Inspect the tail"
   ]
  },
  {
   "cell_type": "code",
   "execution_count": 7,
   "metadata": {
    "colab": {},
    "colab_type": "code",
    "id": "FC4XWWgtXZTC"
   },
   "outputs": [
    {
     "name": "stdout",
     "output_type": "stream",
     "text": [
      "        SeriousDlqin2yrs  RevolvingUtilizationOfUnsecuredLines  age  \\\n",
      "149995                 0                              0.040674   74   \n",
      "149996                 0                              0.299745   44   \n",
      "149997                 0                              0.246044   58   \n",
      "149998                 0                              0.000000   30   \n",
      "149999                 0                              0.850283   64   \n",
      "\n",
      "        NumberOfTime30-59DaysPastDueNotWorse    DebtRatio  MonthlyIncome  \\\n",
      "149995                                     0     0.225131         2100.0   \n",
      "149996                                     0     0.716562         5584.0   \n",
      "149997                                     0  3870.000000            NaN   \n",
      "149998                                     0     0.000000         5716.0   \n",
      "149999                                     0     0.249908         8158.0   \n",
      "\n",
      "        NumberOfOpenCreditLinesAndLoans  NumberOfTimes90DaysLate  \\\n",
      "149995                                4                        0   \n",
      "149996                                4                        0   \n",
      "149997                               18                        0   \n",
      "149998                                4                        0   \n",
      "149999                                8                        0   \n",
      "\n",
      "        NumberRealEstateLoansOrLines  NumberOfTime60-89DaysPastDueNotWorse  \\\n",
      "149995                             1                                     0   \n",
      "149996                             1                                     0   \n",
      "149997                             1                                     0   \n",
      "149998                             0                                     0   \n",
      "149999                             2                                     0   \n",
      "\n",
      "        NumberOfDependents  \n",
      "149995                 0.0  \n",
      "149996                 2.0  \n",
      "149997                 0.0  \n",
      "149998                 0.0  \n",
      "149999                 0.0  \n"
     ]
    }
   ],
   "source": [
    "print(df.tail())"
   ]
  },
  {
   "cell_type": "markdown",
   "metadata": {
    "colab_type": "text",
    "id": "7ecnTkAIQ_MW"
   },
   "source": [
    "### Missing values?\n",
    "You don't need to fill in these missing values, but don't forget that they're there!"
   ]
  },
  {
   "cell_type": "code",
   "execution_count": 0,
   "metadata": {
    "colab": {},
    "colab_type": "code",
    "id": "LkKkeKYPXktJ"
   },
   "outputs": [],
   "source": [
    "### YOUR CODE GOES HERE ###"
   ]
  },
  {
   "cell_type": "markdown",
   "metadata": {
    "colab_type": "text",
    "id": "d_bzeXa-k4mn"
   },
   "source": [
    "### Out of the 11 features, which are discrete and which are continuous?\n",
    "\n",
    "\n",
    "---\n",
    "\n"
   ]
  },
  {
   "cell_type": "markdown",
   "metadata": {
    "colab_type": "text",
    "id": "5cq9LTYnlD75"
   },
   "source": [
    "Double click here to edit this and write your answer below.\n",
    "\n",
    "Answer:  \n"
   ]
  },
  {
   "cell_type": "code",
   "execution_count": 0,
   "metadata": {
    "cellView": "form",
    "colab": {},
    "colab_type": "code",
    "id": "2yIwfc9CXw7K"
   },
   "outputs": [],
   "source": [
    "#@title Double click here for the solution\n",
    "\n",
    "# Continuous: age, DebtRatio, MonthlyIncome, \n",
    "# RevolvingUtilizationOfUnsecuredLines\t\n",
    "\n",
    "# Discrete: All the others"
   ]
  },
  {
   "cell_type": "markdown",
   "metadata": {
    "colab_type": "text",
    "id": "1AK6gGZDlGQJ"
   },
   "source": [
    "### Plot each feature with the appropriate visualization"
   ]
  },
  {
   "cell_type": "markdown",
   "metadata": {
    "colab_type": "text",
    "id": "WVBvMFDGliY_"
   },
   "source": [
    "#### Histograms"
   ]
  },
  {
   "cell_type": "code",
   "execution_count": 0,
   "metadata": {
    "colab": {},
    "colab_type": "code",
    "id": "xN9DrLY0YV61"
   },
   "outputs": [],
   "source": [
    "# Plot each feature/variable that should be plotted using a histogram. Use\n",
    "# As many code cells as you need. Remember to try to do it on your own, before\n",
    "# checking the sample answer below.\n",
    "\n",
    "### YOUR CODE GOES HERE ####\n"
   ]
  },
  {
   "cell_type": "markdown",
   "metadata": {
    "colab_type": "text",
    "id": "Ibjkhv1Ylngm"
   },
   "source": [
    "#### Bar charts"
   ]
  },
  {
   "cell_type": "code",
   "execution_count": 0,
   "metadata": {
    "colab": {},
    "colab_type": "code",
    "id": "cf_1TKa0ZS0j"
   },
   "outputs": [],
   "source": [
    "# Plot all the features / variables that can be plotted \n",
    "# using a bar chart. \n",
    "\n",
    "### YOUR CODE GOES HERE ###\n",
    "\n",
    "\n"
   ]
  },
  {
   "cell_type": "markdown",
   "metadata": {
    "colab_type": "text",
    "id": "uW_GNnTulp7M"
   },
   "source": [
    "#### Scatterplots"
   ]
  },
  {
   "cell_type": "code",
   "execution_count": 0,
   "metadata": {
    "colab": {},
    "colab_type": "code",
    "id": "NmQ_0J-aZiid"
   },
   "outputs": [],
   "source": [
    "# Plot all the features/variables that can be plotted using a scatterplot\n",
    "\n",
    "### YOUR CODE GOES HERE ###\n",
    "\n"
   ]
  },
  {
   "cell_type": "markdown",
   "metadata": {
    "colab_type": "text",
    "id": "K_01y7CMl6Cy"
   },
   "source": [
    "### Is there a relationship between any of the variables? \n",
    "\n",
    "---\n",
    "\n"
   ]
  },
  {
   "cell_type": "markdown",
   "metadata": {
    "colab_type": "text",
    "id": "VvE0OqtDl8zz"
   },
   "source": [
    "Write your answer here: \n"
   ]
  },
  {
   "cell_type": "code",
   "execution_count": 0,
   "metadata": {
    "cellView": "form",
    "colab": {},
    "colab_type": "code",
    "id": "Tmu8Y-8sZzCF"
   },
   "outputs": [],
   "source": [
    "#@title Double click here for answer\n",
    "\n",
    "# There is no apparent relationship just by looking at the plot"
   ]
  },
  {
   "cell_type": "markdown",
   "metadata": {
    "colab_type": "text",
    "id": "GVqrNo1VlzH6"
   },
   "source": [
    "#### Boxplots"
   ]
  },
  {
   "cell_type": "code",
   "execution_count": 0,
   "metadata": {
    "colab": {},
    "colab_type": "code",
    "id": "UofATkVgaCdE"
   },
   "outputs": [],
   "source": [
    "# Plot all the features/variables that can be plotted using a boxplot\n",
    "\n",
    "### YOUR CODE GOES HERE ###\n",
    "\n",
    "\n"
   ]
  },
  {
   "cell_type": "markdown",
   "metadata": {
    "colab_type": "text",
    "id": "XZPv_jBJl1Yj"
   },
   "source": [
    "### Any outliers?\n",
    "\n",
    "\n",
    "---\n",
    "Write your answer here: \n",
    "\n"
   ]
  },
  {
   "cell_type": "code",
   "execution_count": 0,
   "metadata": {
    "cellView": "form",
    "colab": {},
    "colab_type": "code",
    "id": "hvzC2h0naSdM"
   },
   "outputs": [],
   "source": [
    "#@title  Double click here for the answer\n",
    "# Several can be observed in every continuous variable"
   ]
  },
  {
   "cell_type": "markdown",
   "metadata": {
    "colab_type": "text",
    "id": "D3B3Z8GvcY4Q"
   },
   "source": [
    "### Well done! You're halfway there to finish all the exercises. Keep it up! - Grace\n",
    "\n",
    "\n",
    "---\n"
   ]
  }
 ],
 "metadata": {
  "colab": {
   "collapsed_sections": [],
   "name": "Basic Visualizations -EXERCISE.ipynb",
   "provenance": [
    {
     "file_id": "1aXasRH0-5FQ3CXGs2OYXb0N3YyTKfbqS",
     "timestamp": 1574195080286
    },
    {
     "file_id": "1TrRAlu4pUmKsHng5cTYn-PkhA0PcviDY",
     "timestamp": 1567181772721
    },
    {
     "file_id": "1XCXHPOyJJYCisFkNQiMfN7PwoWpiavCW",
     "timestamp": 1561709377536
    },
    {
     "file_id": "1WMpsBAna7qYSPwn1tFKSEfkZjY3BZHuY",
     "timestamp": 1560422997408
    },
    {
     "file_id": "1n6NmJmUpxhIPn4ZCsbK2tiV6PZ6MDD00",
     "timestamp": 1560410483688
    },
    {
     "file_id": "1wlKS2ySxKKZ6msBXn-8S8qe-4rRoWSKI",
     "timestamp": 1560402395187
    },
    {
     "file_id": "1scRLpBtHS0jXC72opqLsj3wMHilVELnZ",
     "timestamp": 1560164436155
    },
    {
     "file_id": "1Gj8xFEghBwX8exDkdBWvNSzOUTYlNxI9",
     "timestamp": 1559546697443
    },
    {
     "file_id": "1TeHiJ5s48kWFy5BosIWhjK2MQyMkPHNo",
     "timestamp": 1559546187577
    },
    {
     "file_id": "1f_9CXFJzBvrAePaDr_WYQGHEBS5th53b",
     "timestamp": 1559541190636
    }
   ]
  },
  "kernelspec": {
   "display_name": "Python 3 (ipykernel)",
   "language": "python",
   "name": "python3"
  },
  "language_info": {
   "codemirror_mode": {
    "name": "ipython",
    "version": 3
   },
   "file_extension": ".py",
   "mimetype": "text/x-python",
   "name": "python",
   "nbconvert_exporter": "python",
   "pygments_lexer": "ipython3",
   "version": "3.9.7"
  }
 },
 "nbformat": 4,
 "nbformat_minor": 1
}
