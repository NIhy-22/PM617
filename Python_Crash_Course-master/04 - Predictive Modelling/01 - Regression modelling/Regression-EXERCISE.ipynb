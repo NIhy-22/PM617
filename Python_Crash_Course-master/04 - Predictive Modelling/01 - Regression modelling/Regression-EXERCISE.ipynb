{
 "cells": [
  {
   "cell_type": "markdown",
   "metadata": {
    "colab_type": "text",
    "id": "T9H4rAOJmyXO"
   },
   "source": [
    "---\n",
    "# Crash Course Python for Data Science — Predictive Modelling\n",
    "---\n",
    "# 01 - Regression modelling\n",
    "---\n",
    "## STOP! BEFORE GOING ANY FURTHER...  \n",
    "\n",
    "Remember, this exercises are open book, open neighbour, open everything! Try to do them on your own before looking at the solution samples.\n",
    "\n",
    "---\n",
    "<br>\n",
    "\n",
    "### 1. Experiment with Nearest Neighbor parameter\n",
    "\n",
    "Using the following code to load the same 10 training and test data points from the workshop."
   ]
  },
  {
   "cell_type": "code",
   "execution_count": 1,
   "metadata": {
    "colab": {},
    "colab_type": "code",
    "id": "CKsxHHzmmyXP"
   },
   "outputs": [],
   "source": [
    "# Run this first!\n",
    "\n",
    "%matplotlib inline\n",
    "import matplotlib.pyplot as plt\n",
    "import pandas as pd\n",
    "from sklearn.neighbors import KNeighborsRegressor\n",
    "from sklearn.metrics import mean_absolute_error\n",
    "\n",
    "# plot tunning\n",
    "plt.style.use(style='ggplot')\n",
    "plt.rcParams['figure.figsize'] = (10, 6)\n",
    "\n",
    "columns = ['carat', 'cut', 'price']\n",
    "\n",
    "features = ['carat', 'cut']\n",
    "target = 'price'\n",
    "\n",
    "train = pd.DataFrame(columns=columns, \n",
    "        data=[[0.3, 'Ideal', 422],\n",
    "        [0.31, 'Ideal', 489],\n",
    "        [0.42, 'Premium', 737],\n",
    "        [0.5, 'Ideal', 1415],\n",
    "        [0.51, 'Premium', 1177],\n",
    "        [0.7, 'Fair', 1865],\n",
    "        [0.73, 'Fair', 2351],\n",
    "        [1.01, 'Good', 3768],\n",
    "        [1.18, 'Very Good', 3965],\n",
    "        [1.18, 'Ideal', 4838]])\n",
    "\n",
    "test  = pd.DataFrame(columns=columns, \n",
    "        data=[[0.3, 'Ideal', 432],\n",
    "        [0.34, 'Ideal', 687],\n",
    "        [0.37, 'Premium', 1124],\n",
    "        [0.4, 'Good', 720],\n",
    "        [0.51, 'Ideal', 1397],\n",
    "        [0.51, 'Very Good', 1284],\n",
    "        [0.59, 'Ideal', 1437],\n",
    "        [0.7, 'Ideal', 3419],\n",
    "        [0.9, 'Premium', 3484],\n",
    "        [0.9, 'Fair', 2964]])\n",
    "\n",
    "cut_ranks = {'Fair': 1, 'Good': 2, 'Very Good': 3, 'Premium': 4, 'Ideal': 5}\n",
    "train.cut = train.cut.map(cut_ranks)\n",
    "test.cut = test.cut.map(cut_ranks)"
   ]
  },
  {
   "cell_type": "markdown",
   "metadata": {
    "colab_type": "text",
    "id": "PDQvM-OieVNd"
   },
   "source": [
    "Then, train a `KNeighborsRegressor` model with `n_neighbors=1`.\n",
    "\n",
    "Use both `carat` and `cut` features.\n",
    "\n",
    "Calculate the mean absolute error on the training data and on the test data."
   ]
  },
  {
   "cell_type": "code",
   "execution_count": 0,
   "metadata": {
    "colab": {},
    "colab_type": "code",
    "id": "_3trzLnhdc6b"
   },
   "outputs": [],
   "source": [
    "# Step 1. Create instance of the model \n",
    "\n",
    "### YOUR CODE GOES HERE ###\n",
    "\n",
    "# Step 2. Train the algorithm\n",
    "\n",
    "### YOUR CODE GOES HERE ###\n",
    "\n",
    "# Step 3. Make predictions\n",
    "\n",
    "### YOUR CODE GOES HERE ###\n",
    "\n",
    "# Step 4. Evaluate the model \n",
    "\n",
    "### YOUR CODE GOES HERE ###\n"
   ]
  },
  {
   "cell_type": "markdown",
   "metadata": {
    "colab_type": "text",
    "id": "NQQveVK9myXV"
   },
   "source": [
    "How does the train error and test error compare to the previous `KNeighborsRegressor` model from the lesson? (The previous model used `n_neighbors=2` and only the `carat` feature.)\n",
    "\n",
    "Is this new model overfitting or underfitting? Why do you think this is happening here? \n",
    "\n"
   ]
  },
  {
   "cell_type": "markdown",
   "metadata": {
    "colab_type": "text",
    "id": "zQJDW1-QmyXW"
   },
   "source": [
    "### 2. More data, two features, linear regression\n",
    "\n",
    "Use the following code to load data for diamonds under $5,000, and split the data into train and test sets. The training data has almost 30,000 rows, and the test data has almost 10,000 rows."
   ]
  },
  {
   "cell_type": "code",
   "execution_count": 0,
   "metadata": {
    "colab": {},
    "colab_type": "code",
    "id": "IDXEn8lvmyXW"
   },
   "outputs": [],
   "source": [
    "import seaborn as sns\n",
    "from sklearn.linear_model import LinearRegression\n",
    "from sklearn.model_selection import train_test_split\n",
    "\n",
    "df = sns.load_dataset('diamonds')\n",
    "df = df[df.price < 5000]\n",
    "train, test = train_test_split(df.copy(), random_state=0)\n",
    "train.shape, test.shape"
   ]
  },
  {
   "cell_type": "code",
   "execution_count": 0,
   "metadata": {
    "colab": {},
    "colab_type": "code",
    "id": "vyStJOe0XY-n"
   },
   "outputs": [],
   "source": [
    "# Run this to check the dataset loaded and looks ok\n",
    "df.head()"
   ]
  },
  {
   "cell_type": "code",
   "execution_count": 0,
   "metadata": {
    "colab": {},
    "colab_type": "code",
    "id": "NWluyktRbHNr"
   },
   "outputs": [],
   "source": [
    "# Run this to encode the ordinal features as numbers\n",
    "cut_ranks = {'Fair': 1, 'Good': 2, 'Very Good': 3, 'Premium': 4, 'Ideal': 5}\n",
    "train.cut = train.cut.map(cut_ranks)\n",
    "target = test.cut = test.cut.map(cut_ranks)"
   ]
  },
  {
   "cell_type": "markdown",
   "metadata": {
    "colab_type": "text",
    "id": "1VZ7PH6nmyXZ"
   },
   "source": [
    "Then, train a Linear Regression model with the `carat` and `cut` features. Calculate the mean absolute error on the training data and on the test data."
   ]
  },
  {
   "cell_type": "markdown",
   "metadata": {
    "colab_type": "text",
    "id": "4jLEcukVmyXb"
   },
   "source": [
    "Use this model to predict the price of a half carat diamond with \"very good\" cut"
   ]
  },
  {
   "cell_type": "code",
   "execution_count": 0,
   "metadata": {
    "colab": {},
    "colab_type": "code",
    "id": "tzNj9J3lgfBH"
   },
   "outputs": [],
   "source": [
    "### YOUR CODE GOES HERE ###"
   ]
  },
  {
   "cell_type": "markdown",
   "metadata": {
    "colab_type": "text",
    "id": "eB-7wzRjmyXe"
   },
   "source": [
    "### 3. More data, more features, any model"
   ]
  },
  {
   "cell_type": "markdown",
   "metadata": {
    "colab_type": "text",
    "id": "OCauk9z2myXf"
   },
   "source": [
    "You choose what features and model type to use! Try to get a better mean absolute error on the test set than your model from the last question."
   ]
  },
  {
   "cell_type": "markdown",
   "metadata": {
    "colab_type": "text",
    "id": "nWVpkz8dmyXf"
   },
   "source": [
    "Refer to [this documentation](https://ggplot2.tidyverse.org/reference/diamonds.html) for more explanation of the features.\n",
    "\n",
    "Besides `cut`, there are two more ordinal features, which you'd need to encode as numbers if you want to use in your model: `color` and `clarity`."
   ]
  },
  {
   "cell_type": "code",
   "execution_count": 0,
   "metadata": {
    "colab": {},
    "colab_type": "code",
    "id": "54K95PyEmyXf"
   },
   "outputs": [],
   "source": [
    "# Run this to see the description of color and clarity features\n",
    "train.describe(include=['object'])"
   ]
  },
  {
   "cell_type": "markdown",
   "metadata": {
    "colab_type": "text",
    "id": "arYOlKNNg93Q"
   },
   "source": [
    "### Below I've written an example solution using K'Nearest, Linear Regression and a regression algorithm we didn't cover in the crash course, known as XGBoost. I strongly encourage you to come up with **your own** solution before looking at mine!"
   ]
  },
  {
   "cell_type": "code",
   "execution_count": 0,
   "metadata": {
    "colab": {},
    "colab_type": "code",
    "id": "aM2ksd9Lh5Tb"
   },
   "outputs": [],
   "source": [
    "# Add as many extra cells as you need. \n",
    "\n",
    "\n",
    "### YOUR CODE GOES HERE ###\n",
    "\n",
    "\n"
   ]
  }
 ],
 "metadata": {
  "colab": {
   "collapsed_sections": [],
   "name": "Regression-EXERCISE.ipynb",
   "provenance": [
    {
     "file_id": "1OWWg2skvgXyVSJBva9TUj7SPvR19Mdbl",
     "timestamp": 1574277905099
    }
   ]
  },
  "kernelspec": {
   "display_name": "Python 3 (ipykernel)",
   "language": "python",
   "name": "python3"
  },
  "language_info": {
   "codemirror_mode": {
    "name": "ipython",
    "version": 3
   },
   "file_extension": ".py",
   "mimetype": "text/x-python",
   "name": "python",
   "nbconvert_exporter": "python",
   "pygments_lexer": "ipython3",
   "version": "3.9.7"
  }
 },
 "nbformat": 4,
 "nbformat_minor": 1
}
